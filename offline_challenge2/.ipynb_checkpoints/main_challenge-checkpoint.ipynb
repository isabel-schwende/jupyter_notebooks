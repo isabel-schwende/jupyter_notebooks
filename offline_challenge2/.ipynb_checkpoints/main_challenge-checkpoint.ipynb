{
 "cells": [
  {
   "cell_type": "code",
   "execution_count": 1,
   "metadata": {},
   "outputs": [
    {
     "name": "stderr",
     "output_type": "stream",
     "text": [
      "Using TensorFlow backend.\n"
     ]
    }
   ],
   "source": [
    "%matplotlib inline\n",
    "# data preparation imports\n",
    "import matplotlib.pyplot as plt\n",
    "import numpy as np\n",
    "from scipy.stats import normaltest\n",
    "from collections import Counter\n",
    "import re\n",
    "import sklearn as sk\n",
    "import math\n",
    "from sklearn.model_selection import train_test_split\n",
    "\n",
    "# TODO: cleanup imports\n",
    "from keras.models import Model\n",
    "from keras.layers import Dense, Input, Dropout, MaxPooling1D, Conv1D, GlobalMaxPool1D\n",
    "from keras.layers import merge, Lambda, concatenate, BatchNormalization, Reshape\n",
    "from keras.layers import TimeDistributed, \n",
    "from keras.optimizers import Adam\n",
    "import keras.backend as K\n",
    "import tensorflow as tf\n",
    "import keras.callbacks\n",
    "\n",
    "import os\n",
    "import sys\n",
    "stdout = sys.stdout\n",
    "reload(sys)\n",
    "sys.setdefaultencoding('utf-8')\n",
    "sys.stdout = stdout"
   ]
  },
  {
   "cell_type": "code",
   "execution_count": 2,
   "metadata": {
    "collapsed": true
   },
   "outputs": [],
   "source": [
    "# import x for training, the sentences\n",
    "with open('./data/xtrain.txt') as f:\n",
    "    text = f.read()"
   ]
  },
  {
   "cell_type": "code",
   "execution_count": 3,
   "metadata": {
    "collapsed": true
   },
   "outputs": [],
   "source": [
    "# process data to remove empty line\n",
    "xdata = text.split('\\n')\n",
    "xdata = filter(None, xdata)\n",
    "xdata = np.asarray(xdata)"
   ]
  },
  {
   "cell_type": "code",
   "execution_count": 4,
   "metadata": {
    "collapsed": true
   },
   "outputs": [],
   "source": [
    "# import y for training, the ground truth labels\n",
    "with open('./data/ytrain.txt') as f:\n",
    "    labeltext = f.read()"
   ]
  },
  {
   "cell_type": "code",
   "execution_count": 5,
   "metadata": {
    "collapsed": true
   },
   "outputs": [],
   "source": [
    "# preprocess y to remove emtpy string and convert to integers for checks\n",
    "ydata_str = labeltext.split('\\n')\n",
    "ydata_str = filter(None, ydata_str) \n",
    "\n",
    "ydata = [int(numeric_string) for numeric_string in ydata_str]"
   ]
  },
  {
   "cell_type": "code",
   "execution_count": 6,
   "metadata": {},
   "outputs": [
    {
     "name": "stdout",
     "output_type": "stream",
     "text": [
      "Checking if the number of sentences and labels is equal: True\n"
     ]
    }
   ],
   "source": [
    "# verify that both x and y have the same number of entries\n",
    "print \"Checking if the number of sentences and labels is equal:\", len(xdata)==len(ydata)"
   ]
  },
  {
   "cell_type": "code",
   "execution_count": 7,
   "metadata": {
    "collapsed": true
   },
   "outputs": [],
   "source": [
    "# manually load the list of book titles for nicer prints\n",
    "# I fixed a minor spelling error in one of the book titles here\n",
    "book_titles = ['alice_in_wonderland','dracula','dubliners','great_expectations','hard_times','huckleberry_finn',\n",
    "               'les_miserable','moby_dick','oliver_twist','peter_pan','tale_of_two_cities','tom_sawyer']"
   ]
  },
  {
   "cell_type": "code",
   "execution_count": 8,
   "metadata": {
    "collapsed": true
   },
   "outputs": [],
   "source": [
    "## Sanity check for labels\n",
    "# let's take a look at the labels first\n",
    "# it makes sense to take a look at the labels \n",
    "# I like histograms since it's important to check how our labels are distributed \n",
    "bins = range(13)\n",
    "hist, bin_edges = np.histogram(ydata, bins, density=True)"
   ]
  },
  {
   "cell_type": "code",
   "execution_count": 9,
   "metadata": {},
   "outputs": [
    {
     "data": {
      "image/png": "[encoded data removed]",
      "text/plain": [
       "<matplotlib.figure.Figure at 0x7f2bb42e4310>"
      ]
     },
     "metadata": {},
     "output_type": "display_data"
    }
   ],
   "source": [
    "# shows a nice plot of the histogram of labels\n",
    "plt.title(\"Label Histogram\")\n",
    "plt.xlabel(\"Label\")\n",
    "plt.ylabel(\"Frequency in percentage\")\n",
    "plt.bar(bin_edges[:-1], hist, width=1)\n",
    "plt.xlim(min(bin_edges), max(bin_edges))\n",
    "plt.show()  \n",
    "\n",
    "# we see in this plot that there is actually not an even distribution of labels"
   ]
  },
  {
   "cell_type": "code",
   "execution_count": 10,
   "metadata": {},
   "outputs": [
    {
     "name": "stdout",
     "output_type": "stream",
     "text": [
      "The book alice_in_wonderland, with index 0, has the lowest number of samples, 1.704754 percent.\n",
      "The book moby_dick, with index 7, has the highest number of samples, 15.614689 percent.\n",
      "That means that we have about 9 times more samples from moby_dick than from alice_in_wonderland.\n"
     ]
    }
   ],
   "source": [
    "# print a few interesting numbers about the histogram\n",
    "print (\"The book %s, with index %i, has the lowest number of samples, %f percent.\"\n",
    "%(book_titles[np.argmin(hist)],np.argmin(hist),min(hist)*100) )\n",
    "print (\"The book %s, with index %i, has the highest number of samples, %f percent.\"\n",
    "%(book_titles[np.argmax(hist)],np.argmax(hist),max(hist)*100) )\n",
    "\n",
    "print (\"That means that we have about %i times more samples from %s than from %s.\"\n",
    "%(max(hist)/min(hist),book_titles[np.argmax(hist)],book_titles[np.argmin(hist)]) )"
   ]
  },
  {
   "cell_type": "code",
   "execution_count": 11,
   "metadata": {},
   "outputs": [
    {
     "name": "stdout",
     "output_type": "stream",
     "text": [
      "{0: 58.659498207885306, 1: 9.446464646464646, 2: 21.923643670462155, 3: 8.0323926380368107, 4: 13.88125530110263, 5: 14.132987910189982, 6: 7.741721854304636, 7: 6.4042261788299744, 8: 8.9775095995611629, 9: 32.634097706879359, 10: 10.644552845528455, 11: 23.313390313390311}\n"
     ]
    }
   ],
   "source": [
    "# I've done a few training test runs and realized that the number of labels is screwed so badly that the prediction\n",
    "# didn't work well. For example I obtained this histogram of predicted labels for the test data:\n",
    "# [   0  252    0   72    0    0 2063  434  179    0    0    0] \n",
    "# so some classes were not predicted at all, while only the most common 5 classes were predicted\n",
    "\n",
    "# labels_dict : {ind_label: count_label}\n",
    "\n",
    "def create_class_weight(labels_dict):\n",
    "    keys = labels_dict.keys()\n",
    "    class_weight = dict()\n",
    "\n",
    "    for key in keys:\n",
    "        class_weight[key] = 1.0/labels_dict[key]\n",
    "\n",
    "    return class_weight\n",
    "\n",
    "# random labels_dict\n",
    "\n",
    "keys = range(0,len(book_titles))\n",
    "labels_dict = dict((keys[i],hist[i]) for i in range(len(book_titles)))\n",
    "class_weights = create_class_weight(labels_dict)\n",
    "print class_weights"
   ]
  },
  {
   "cell_type": "code",
   "execution_count": 12,
   "metadata": {
    "collapsed": true
   },
   "outputs": [],
   "source": [
    "## Clean up sentences\n",
    "# Some early experiments showed that there were some non-ascii characters in the sentence data\n",
    "# I've decided to remove these\n",
    "uni_x = [sen.encode('ascii', 'ignore') for sen in xdata]"
   ]
  },
  {
   "cell_type": "code",
   "execution_count": 13,
   "metadata": {},
   "outputs": [
    {
     "name": "stdout",
     "output_type": "stream",
     "text": [
      "The longest sentence in the training data has 189 symbols, while the shortest has 54 symbols.\n",
      "The average sentence length is 167.874404 and the standard deviation is 8.061963.\n"
     ]
    }
   ],
   "source": [
    "## Sanity check for sentences x\n",
    "x_len = [len(sen) for sen in uni_x]\n",
    "min_len = min(x_len)\n",
    "max_len = max(x_len)\n",
    "print \"The longest sentence in the training data has %i symbols, while the shortest has %i symbols.\"%(max_len,min_len)\n",
    "print(\"The average sentence length is %f and the standard deviation is %f.\"% (np.mean(x_len),np.std(x_len)))\n",
    "\n",
    "# so the length of the sentences varies but not that much, especially the very short sentences seem to be outliers"
   ]
  },
  {
   "cell_type": "code",
   "execution_count": 14,
   "metadata": {},
   "outputs": [
    {
     "name": "stdout",
     "output_type": "stream",
     "text": [
      "[   1    0    0    0    0    1    0    0    0    0    0    0    0    0    0\n",
      "    0    0    0    0    0    0    0    0    0    0    1    2    1    0    0\n",
      "    0    0    0    0    0    0    1    0    0    0    1    0    1    0    0\n",
      "    0    0    0    0    0    0    0    1    0    1    1    0    0    0    0\n",
      "    2    5    0    1    4    3    3    1    2    4    2    4    5    6    6\n",
      "   11   10    6   13   19   18   15   33   23   18   38   43   40   49   64\n",
      "   58   76   90   92  143  144  158  194  196  260  280  313  346  410  430\n",
      "  480  577  645  791  914 1083 1259 1476 1760 1893 2122 2245 2245 2212 2029\n",
      " 1783 1584 1239  904  688  469  286  196   80   59   29   19    8    6]\n"
     ]
    },
    {
     "data": {
      "image/png": "[encoded data removed]",
      "text/plain": [
       "<matplotlib.figure.Figure at 0x7f2bb42dee10>"
      ]
     },
     "metadata": {},
     "output_type": "display_data"
    }
   ],
   "source": [
    "bins = range(min_len,max_len,1)\n",
    "hist, bin_edges = np.histogram(x_len,bins,density=False )\n",
    "print hist\n",
    "\n",
    "# shows a nice plot of the histogram of sentence lengths\n",
    "plt.title(\"Sentence length Histogram\")\n",
    "plt.xlabel(\"Sequence length\")\n",
    "plt.ylabel(\"Frequency absolute numbers\")\n",
    "plt.bar(bin_edges[:-1], hist, width = 1)\n",
    "plt.xlim(min(bin_edges), max(bin_edges))\n",
    "plt.show()  \n",
    "\n",
    "# we see in this plot that the sentence length appears to be normally distributed"
   ]
  },
  {
   "cell_type": "code",
   "execution_count": 15,
   "metadata": {},
   "outputs": [
    {
     "name": "stdout",
     "output_type": "stream",
     "text": [
      "statistical test for: p value for normality = 0.000000 .\n"
     ]
    }
   ],
   "source": [
    "print(\"statistical test for: p value for normality = %f .\"%(normaltest(x_len)[1]) )\n",
    "\n",
    "# theory that the data was picked with normally distributed sentence length can't be rejected"
   ]
  },
  {
   "cell_type": "code",
   "execution_count": 16,
   "metadata": {
    "collapsed": true
   },
   "outputs": [],
   "source": [
    "def histogram_letters(L):\n",
    "    d = Counter(letter for line in L for letter in line)\n",
    "    for letter in d:\n",
    "        print('{} | {}'.format(letter, d[letter]))\n",
    "    return d"
   ]
  },
  {
   "cell_type": "code",
   "execution_count": 17,
   "metadata": {},
   "outputs": [
    {
     "name": "stdout",
     "output_type": "stream",
     "text": [
      "! | 6720\n",
      "# | 3\n",
      "\" | 4520\n",
      "$ | 3\n",
      "' | 10332\n",
      "& | 15\n",
      ") | 804\n",
      "( | 833\n",
      "* | 48\n",
      "- | 19931\n",
      ", | 108481\n",
      "/ | 3\n",
      ". | 50053\n",
      "1 | 364\n",
      "0 | 223\n",
      "3 | 113\n",
      "2 | 159\n",
      "5 | 123\n",
      "4 | 73\n",
      "7 | 96\n",
      "6 | 48\n",
      "9 | 64\n",
      "8 | 159\n",
      "; | 15494\n",
      ": | 2440\n",
      "= | 11\n",
      "< | 6\n",
      "? | 4670\n",
      "> | 6\n",
      "[ | 116\n",
      "] | 103\n",
      "_ | 3365\n",
      "a | 428514\n",
      "c | 118709\n",
      "b | 83080\n",
      "e | 651182\n",
      "d | 242642\n",
      "g | 112092\n",
      "f | 112291\n",
      "i | 357560\n",
      "h | 353582\n",
      "k | 46716\n",
      "j | 8225\n",
      "m | 135069\n",
      "l | 211696\n",
      "o | 402570\n",
      "n | 364930\n",
      "q | 5371\n",
      "p | 85532\n",
      "s | 327557\n",
      "r | 293094\n",
      "u | 147819\n",
      "t | 484089\n",
      "w | 134334\n",
      "v | 46785\n",
      "y | 103313\n",
      "x | 6212\n",
      "{ | 4\n",
      "z | 2515\n",
      "} | 3\n"
     ]
    }
   ],
   "source": [
    "## histogram of the letters\n",
    "l_hist = histogram_letters(uni_x)"
   ]
  },
  {
   "cell_type": "code",
   "execution_count": 18,
   "metadata": {},
   "outputs": [
    {
     "name": "stdout",
     "output_type": "stream",
     "text": [
      "For embedding the sentences, we will use an alphabet with 46 letters with at least 100 occurences in the training set.\n"
     ]
    }
   ],
   "source": [
    "## analysis\n",
    "# 'e', 't' and 'a' are most common letters, which was expectable for a dataset using English language text\n",
    "# I've decided to include punctuation in my model since it could give interesting clues about the novel (or author)\n",
    "# however I've also decided to ignore some rare symbols - less than 100 occurences\n",
    "# the alphabet to consider doesn't include these symbols\n",
    "alphabet = []\n",
    "\n",
    "for letter in l_hist:\n",
    "    if l_hist[letter]>=100:\n",
    "        alphabet = np.append(alphabet, letter)\n",
    "\n",
    "print(\"For embedding the sentences, we will use an alphabet with %i letters with at least 100 occurences in the training set.\"\n",
    "%len(alphabet))"
   ]
  },
  {
   "cell_type": "code",
   "execution_count": 19,
   "metadata": {},
   "outputs": [
    {
     "name": "stdout",
     "output_type": "stream",
     "text": [
      "{'!': 1, '\"': 2, \"'\": 3, ')': 4, '(': 5, '-': 6, ',': 7, '.': 8, '1': 9, '0': 10, '3': 11, '2': 12, '5': 13, '8': 14, ';': 15, ':': 16, '?': 17, '[': 18, ']': 19, '_': 20, 'a': 21, 'c': 22, 'b': 23, 'e': 24, 'd': 25, 'g': 26, 'f': 27, 'i': 28, 'h': 29, 'k': 30, 'j': 31, 'm': 32, 'l': 33, 'o': 34, 'n': 35, 'q': 36, 'p': 37, 's': 38, 'r': 39, 'u': 40, 't': 41, 'w': 42, 'v': 43, 'y': 44, 'x': 45, 'z': 46}\n"
     ]
    }
   ],
   "source": [
    "enumeration = dict(enumerate(alphabet,1))\n",
    "alphabet_dict = dict (zip(enumeration.values(),enumeration.keys()))\n",
    "\n",
    "print alphabet_dict\n",
    "            \n",
    "X = np.ones((len(uni_x), max_len), dtype=np.int64) *-1\n",
    "\n",
    "for i, sentence in enumerate(uni_x):\n",
    "    for j, char in enumerate(sentence):\n",
    "        if char in alphabet:\n",
    "            X[i,j] = alphabet_dict[char]\n",
    "            \n",
    "# Note: this code leaves rare symbols as -1, which is also used for padding the sentences"
   ]
  },
  {
   "cell_type": "code",
   "execution_count": 20,
   "metadata": {},
   "outputs": [
    {
     "name": "stdout",
     "output_type": "stream",
     "text": [
      "The longest sentence in the test data has 185 symbols, while the shortest has 87 symbols.\n",
      "The average sentence length is 168.027000 and the standard deviation is 8.201480.\n"
     ]
    }
   ],
   "source": [
    "## loading and preparing of test data \n",
    "with open('./data/xtest.txt') as f:\n",
    "    text = f.read()\n",
    "    \n",
    "test_data = text.split('\\n')\n",
    "test_data = filter(None, test_data)\n",
    "test_data = np.asarray(test_data)\n",
    "uni_test = [sen.encode('ascii', 'ignore') for sen in test_data]\n",
    "\n",
    "test_len = [len(sen) for sen in uni_test]\n",
    "min_len = min(test_len)\n",
    "max_len_test = max(test_len)\n",
    "print \"The longest sentence in the test data has %i symbols, while the shortest has %i symbols.\"%(max_len_test,min_len)\n",
    "print(\"The average sentence length is %f and the standard deviation is %f.\"% (np.mean(test_len),np.std(test_len)))\n",
    "\n",
    "# I'm using the same alphabet as extracted from the training data and the maximum length of the training sentences\n",
    "X_test = np.ones((len(uni_test), np.shape(X)[1]), dtype=np.int64) *-1\n",
    "\n",
    "# we cut the sentences of the test set off since we use the maximum length of the training sentences\n",
    "for i, sentence in enumerate(uni_test):\n",
    "    for j, char in enumerate(sentence):\n",
    "        if char in alphabet and j < len(uni_x):\n",
    "            X_test[i,j] = alphabet_dict[char]\n",
    "            \n"
   ]
  },
  {
   "cell_type": "code",
   "execution_count": 21,
   "metadata": {
    "collapsed": true
   },
   "outputs": [],
   "source": [
    "## one-hot encoding\n",
    "# we have to embedd our characters so that we can use them as numerical vectors\n",
    "\n",
    "# technically also other embeddings are available such as char2vec but since of the time constraint, I decided to use one-hot\n",
    "# I think a better embedding could lead to a significantly better model\n",
    "\n",
    "# a depth of 6 should be enough since there are 46 characters in this challenge and 2^6 is 64\n",
    "p_depth = 6\n",
    "\n",
    "# defining this function to call it on the fly\n",
    "def transform_one_hot(x, p_depth=6):\n",
    "    return tf.to_float(tf.one_hot(x, p_depth, on_value=1, off_value=0, axis=-1))\n",
    "\n",
    "def one_hot_outshape(in_shape):\n",
    "    return in_shape[0], in_shape[1], p_depth"
   ]
  },
  {
   "cell_type": "code",
   "execution_count": 22,
   "metadata": {
    "collapsed": true
   },
   "outputs": [],
   "source": [
    "## data split for validation\n",
    "\n",
    "# split into training and validation from train.txt\n",
    "X_train, X_val, y_train, y_val = train_test_split(X, ydata, test_size=0.05, random_state=0)\n",
    "# since our dataset is already pretty small, we can only afford to have a very small validation set\n",
    "\n",
    "# X_test is kept intact for predictions"
   ]
  },
  {
   "cell_type": "code",
   "execution_count": 23,
   "metadata": {
    "collapsed": true
   },
   "outputs": [],
   "source": [
    "## model design\n",
    "# I'm aware that at this point the standard model for such a task would be a character-level LSTM (RNN)\n",
    "# However, I've been working on CNN for the past 2 years and have more experience with their design. \n",
    "# A quick literature search confirmed that they can be used for this kind of task\n",
    "# [1]\"Convolutional Neural Networks for Sentence Classification\" (2014, https://arxiv.org/pdf/1408.5882.pdf)\n",
    "# [2]\"A Sensitivity Analysis of (and Practitioners’ Guide to) Convolutional Neural Networks for Sentence Classification\" \n",
    "# (2016, https://arxiv.org/pdf/1510.03820.pdf)"
   ]
  },
  {
   "cell_type": "code",
   "execution_count": 24,
   "metadata": {
    "collapsed": true
   },
   "outputs": [],
   "source": [
    "## (hyper-)parameters\n",
    "# definition of hyperparameters relevant to this task\n",
    "\n",
    "# dropout rate for regularization\n",
    "p_dropout = 0.1\n",
    "# feature map size\n",
    "# adjusted these values by line search as suggested in paper [2]\n",
    "p_filter_nb1 = [100, 200, 200]\n",
    "p_filter_nb2 = [200, 300, 300]\n",
    "p_filter_nb3 = [300, 400, 400]\n",
    "# filter size\n",
    "# adjusted these values by line search as suggested in paper [2]\n",
    "p_filter_len1 = [5, 3, 3]\n",
    "p_filter_len2 = [11, 3, 3]\n",
    "p_filter_len3 = [15, 3, 3]\n",
    "\n",
    "# Load checkpoint if exists\n",
    "checkpoint = False"
   ]
  },
  {
   "cell_type": "code",
   "execution_count": 25,
   "metadata": {
    "collapsed": true
   },
   "outputs": [],
   "source": [
    "## Defining some necessary functions\n",
    "# 1d max pooling as recommended in [2]\n",
    "def max_1d(X):\n",
    "    return K.max(X, axis=1)\n",
    "\n",
    "# defining a block\n",
    "def conv_block(in_layer, nb_filter=[100, 100, 100], filter_length=[3, 3, 3], subsample=[1, 1, 1], pool_length=[2, 2, 2]):\n",
    "    block = in_layer\n",
    "    for i in range(len(nb_filter)):\n",
    "\n",
    "        block = Conv1D(nb_filter=nb_filter[i],\n",
    "                              filter_length=filter_length[i],\n",
    "                              border_mode='valid',\n",
    "                              activation='relu',\n",
    "                              subsample_length=subsample[i])(block)\n",
    "        # TODO: dropout or backnorm (experiment!)\n",
    "        block = BatchNormalization()(block)\n",
    "        block = Dropout(p_dropout)(block)\n",
    "        if pool_length[i]:\n",
    "            block = MaxPooling1D(pool_length=pool_length[i])(block)\n",
    "\n",
    "    block = Lambda(max_1d, output_shape=(nb_filter[-1],))(block)\n",
    "    block = Dense(128, activation='relu')(block)\n",
    "    block = Dense(128, activation='relu')(block)\n",
    "    return block"
   ]
  },
  {
   "cell_type": "code",
   "execution_count": 26,
   "metadata": {
    "collapsed": true
   },
   "outputs": [],
   "source": [
    "## The main model in keras\n",
    "# insert the input sentence and embedd to one-hot space on-the-fly\n",
    "in_sentence = Input(shape=(max_len,), dtype='int64')\n",
    "embedded = Lambda(transform_one_hot, output_shape=one_hot_outshape)(in_sentence)\n",
    "\n",
    "# convolve with three blocks\n",
    "block1 = conv_block(embedded, p_filter_nb1, filter_length=p_filter_len1, subsample=[1, 1, 1], pool_length=[2, 2, 2])\n",
    "block2 = conv_block(embedded, p_filter_nb2, filter_length=p_filter_len2, subsample=[1, 1, 1], pool_length=[2, 2, 2])\n",
    "block3 = conv_block(embedded, p_filter_nb3, filter_length=p_filter_len3, subsample=[1, 1, 1], pool_length=[2, 2, 2])\n",
    "\n",
    "# merge blocks to one\n",
    "feature_vec = merge([block1,block2, block3], mode='concat', concat_axis=-1)\n",
    "\n",
    "# added fully connected layer\n",
    "feature_vec = Dropout(p_dropout)(feature_vec)\n",
    "feature_vec = Dense(128, activation='relu')(feature_vec)\n",
    "\n",
    "# softmax classification for 12 classes\n",
    "classes_estimated = Dense(12, activation='softmax')(feature_vec)"
   ]
  },
  {
   "cell_type": "code",
   "execution_count": 27,
   "metadata": {},
   "outputs": [
    {
     "name": "stdout",
     "output_type": "stream",
     "text": [
      "____________________________________________________________________________________________________\n",
      "Layer (type)                     Output Shape          Param #     Connected to                     \n",
      "====================================================================================================\n",
      "input_1 (InputLayer)             (None, 189)           0                                            \n",
      "____________________________________________________________________________________________________\n",
      "lambda_1 (Lambda)                (None, 189, 6)        0           input_1[0][0]                    \n",
      "____________________________________________________________________________________________________\n",
      "conv1d_1 (Conv1D)                (None, 185, 100)      3100        lambda_1[0][0]                   \n",
      "____________________________________________________________________________________________________\n",
      "conv1d_4 (Conv1D)                (None, 179, 200)      13400       lambda_1[0][0]                   \n",
      "____________________________________________________________________________________________________\n",
      "conv1d_7 (Conv1D)                (None, 175, 300)      27300       lambda_1[0][0]                   \n",
      "____________________________________________________________________________________________________\n",
      "batch_normalization_1 (BatchNorm (None, 185, 100)      400         conv1d_1[0][0]                   \n",
      "____________________________________________________________________________________________________\n",
      "batch_normalization_4 (BatchNorm (None, 179, 200)      800         conv1d_4[0][0]                   \n",
      "____________________________________________________________________________________________________\n",
      "batch_normalization_7 (BatchNorm (None, 175, 300)      1200        conv1d_7[0][0]                   \n",
      "____________________________________________________________________________________________________\n",
      "dropout_1 (Dropout)              (None, 185, 100)      0           batch_normalization_1[0][0]      \n",
      "____________________________________________________________________________________________________\n",
      "dropout_4 (Dropout)              (None, 179, 200)      0           batch_normalization_4[0][0]      \n",
      "____________________________________________________________________________________________________\n",
      "dropout_7 (Dropout)              (None, 175, 300)      0           batch_normalization_7[0][0]      \n",
      "____________________________________________________________________________________________________\n",
      "max_pooling1d_1 (MaxPooling1D)   (None, 92, 100)       0           dropout_1[0][0]                  \n",
      "____________________________________________________________________________________________________\n",
      "max_pooling1d_4 (MaxPooling1D)   (None, 89, 200)       0           dropout_4[0][0]                  \n",
      "____________________________________________________________________________________________________\n",
      "max_pooling1d_7 (MaxPooling1D)   (None, 87, 300)       0           dropout_7[0][0]                  \n",
      "____________________________________________________________________________________________________\n",
      "conv1d_2 (Conv1D)                (None, 90, 200)       60200       max_pooling1d_1[0][0]            \n",
      "____________________________________________________________________________________________________\n",
      "conv1d_5 (Conv1D)                (None, 87, 300)       180300      max_pooling1d_4[0][0]            \n",
      "____________________________________________________________________________________________________\n",
      "conv1d_8 (Conv1D)                (None, 85, 400)       360400      max_pooling1d_7[0][0]            \n",
      "____________________________________________________________________________________________________\n",
      "batch_normalization_2 (BatchNorm (None, 90, 200)       800         conv1d_2[0][0]                   \n",
      "____________________________________________________________________________________________________\n",
      "batch_normalization_5 (BatchNorm (None, 87, 300)       1200        conv1d_5[0][0]                   \n",
      "____________________________________________________________________________________________________\n",
      "batch_normalization_8 (BatchNorm (None, 85, 400)       1600        conv1d_8[0][0]                   \n",
      "____________________________________________________________________________________________________\n",
      "dropout_2 (Dropout)              (None, 90, 200)       0           batch_normalization_2[0][0]      \n",
      "____________________________________________________________________________________________________\n",
      "dropout_5 (Dropout)              (None, 87, 300)       0           batch_normalization_5[0][0]      \n",
      "____________________________________________________________________________________________________\n",
      "dropout_8 (Dropout)              (None, 85, 400)       0           batch_normalization_8[0][0]      \n",
      "____________________________________________________________________________________________________\n",
      "max_pooling1d_2 (MaxPooling1D)   (None, 45, 200)       0           dropout_2[0][0]                  \n",
      "____________________________________________________________________________________________________\n",
      "max_pooling1d_5 (MaxPooling1D)   (None, 43, 300)       0           dropout_5[0][0]                  \n",
      "____________________________________________________________________________________________________\n",
      "max_pooling1d_8 (MaxPooling1D)   (None, 42, 400)       0           dropout_8[0][0]                  \n",
      "____________________________________________________________________________________________________\n",
      "conv1d_3 (Conv1D)                (None, 43, 200)       120200      max_pooling1d_2[0][0]            \n",
      "____________________________________________________________________________________________________\n",
      "conv1d_6 (Conv1D)                (None, 41, 300)       270300      max_pooling1d_5[0][0]            \n",
      "____________________________________________________________________________________________________\n",
      "conv1d_9 (Conv1D)                (None, 40, 400)       480400      max_pooling1d_8[0][0]            \n",
      "____________________________________________________________________________________________________\n",
      "batch_normalization_3 (BatchNorm (None, 43, 200)       800         conv1d_3[0][0]                   \n",
      "____________________________________________________________________________________________________\n",
      "batch_normalization_6 (BatchNorm (None, 41, 300)       1200        conv1d_6[0][0]                   \n",
      "____________________________________________________________________________________________________\n",
      "batch_normalization_9 (BatchNorm (None, 40, 400)       1600        conv1d_9[0][0]                   \n",
      "____________________________________________________________________________________________________\n",
      "dropout_3 (Dropout)              (None, 43, 200)       0           batch_normalization_3[0][0]      \n",
      "____________________________________________________________________________________________________\n",
      "dropout_6 (Dropout)              (None, 41, 300)       0           batch_normalization_6[0][0]      \n",
      "____________________________________________________________________________________________________\n",
      "dropout_9 (Dropout)              (None, 40, 400)       0           batch_normalization_9[0][0]      \n",
      "____________________________________________________________________________________________________\n",
      "max_pooling1d_3 (MaxPooling1D)   (None, 21, 200)       0           dropout_3[0][0]                  \n",
      "____________________________________________________________________________________________________\n",
      "max_pooling1d_6 (MaxPooling1D)   (None, 20, 300)       0           dropout_6[0][0]                  \n",
      "____________________________________________________________________________________________________\n",
      "max_pooling1d_9 (MaxPooling1D)   (None, 20, 400)       0           dropout_9[0][0]                  \n",
      "____________________________________________________________________________________________________\n",
      "lambda_2 (Lambda)                (None, 200)           0           max_pooling1d_3[0][0]            \n",
      "____________________________________________________________________________________________________\n",
      "lambda_3 (Lambda)                (None, 300)           0           max_pooling1d_6[0][0]            \n",
      "____________________________________________________________________________________________________\n",
      "lambda_4 (Lambda)                (None, 400)           0           max_pooling1d_9[0][0]            \n",
      "____________________________________________________________________________________________________\n",
      "dense_1 (Dense)                  (None, 128)           25728       lambda_2[0][0]                   \n",
      "____________________________________________________________________________________________________\n",
      "dense_3 (Dense)                  (None, 128)           38528       lambda_3[0][0]                   \n",
      "____________________________________________________________________________________________________\n",
      "dense_5 (Dense)                  (None, 128)           51328       lambda_4[0][0]                   \n",
      "____________________________________________________________________________________________________\n",
      "dense_2 (Dense)                  (None, 128)           16512       dense_1[0][0]                    \n",
      "____________________________________________________________________________________________________\n",
      "dense_4 (Dense)                  (None, 128)           16512       dense_3[0][0]                    \n",
      "____________________________________________________________________________________________________\n",
      "dense_6 (Dense)                  (None, 128)           16512       dense_5[0][0]                    \n",
      "____________________________________________________________________________________________________\n",
      "merge_1 (Merge)                  (None, 384)           0           dense_2[0][0]                    \n",
      "                                                                   dense_4[0][0]                    \n",
      "                                                                   dense_6[0][0]                    \n",
      "____________________________________________________________________________________________________\n",
      "dropout_10 (Dropout)             (None, 384)           0           merge_1[0][0]                    \n",
      "____________________________________________________________________________________________________\n",
      "dense_7 (Dense)                  (None, 128)           49280       dropout_10[0][0]                 \n",
      "____________________________________________________________________________________________________\n",
      "dense_8 (Dense)                  (None, 12)            1548        dense_7[0][0]                    \n",
      "====================================================================================================\n",
      "Total params: 1,741,148\n",
      "Trainable params: 1,736,348\n",
      "Non-trainable params: 4,800\n",
      "____________________________________________________________________________________________________\n"
     ]
    }
   ],
   "source": [
    "## training\n",
    "model = Model(input=in_sentence, output=classes_estimated)\n",
    "\n",
    "model.summary()"
   ]
  },
  {
   "cell_type": "code",
   "execution_count": 28,
   "metadata": {
    "collapsed": true
   },
   "outputs": [],
   "source": [
    "if checkpoint:\n",
    "    model.load_weights(checkpoint_dir)\n",
    "\n",
    "file_name = 'char-level-cnn'\n",
    "check_cb = keras.callbacks.ModelCheckpoint('checkpoints/' + file_name + '.{epoch:02d}-{val_loss:.2f}.hdf5',\n",
    "                                           monitor='val_loss',\n",
    "                                           verbose=0, save_best_only=True, mode='min')\n",
    "\n",
    "earlystop_cb = keras.callbacks.EarlyStopping(monitor='val_loss', patience=5, verbose=0, mode='auto')\n",
    "\n",
    "# TODO: set learning rate decay\n",
    "optimizer = keras.optimizers.Nadam\n",
    "# using loss for multiclass problem\n",
    "model.compile(loss='categorical_crossentropy', optimizer=optimizer, metrics=['accuracy'])"
   ]
  },
  {
   "cell_type": "code",
   "execution_count": 29,
   "metadata": {
    "collapsed": true
   },
   "outputs": [],
   "source": [
    "# following the keras documentation, I've realized that the labels have to be formatted this way in order to use\n",
    "# the categorical cross entropy loss\n",
    "y_train = keras.utils.to_categorical(y_train, 12)\n",
    "y_val = keras.utils.to_categorical(y_val, 12)"
   ]
  },
  {
   "cell_type": "code",
   "execution_count": 30,
   "metadata": {},
   "outputs": [
    {
     "name": "stdout",
     "output_type": "stream",
     "text": [
      "Train on 31095 samples, validate on 1637 samples\n",
      "Epoch 1/10\n",
      "31095/31095 [==============================] - 432s - loss: 5.3448 - acc: 0.1659 - val_loss: 14.1095 - val_acc: 0.1246\n",
      "Epoch 2/10\n",
      "15872/31095 [==============>...............] - ETA: 206s - loss: 5.3650 - acc: 0.1747"
     ]
    },
    {
     "ename": "KeyboardInterrupt",
     "evalue": "",
     "output_type": "error",
     "traceback": [
      "\u001b[0;31m---------------------------------------------------------------------------\u001b[0m",
      "\u001b[0;31mKeyboardInterrupt\u001b[0m                         Traceback (most recent call last)",
      "\u001b[0;32m<ipython-input-30-9b9ef346a646>\u001b[0m in \u001b[0;36m<module>\u001b[0;34m()\u001b[0m\n\u001b[1;32m      1\u001b[0m \u001b[0;31m# the actual training is done here\u001b[0m\u001b[0;34m\u001b[0m\u001b[0;34m\u001b[0m\u001b[0m\n\u001b[0;32m----> 2\u001b[0;31m \u001b[0mmodel\u001b[0m\u001b[0;34m.\u001b[0m\u001b[0mfit\u001b[0m\u001b[0;34m(\u001b[0m\u001b[0mX_train\u001b[0m\u001b[0;34m,\u001b[0m \u001b[0my_train\u001b[0m\u001b[0;34m,\u001b[0m \u001b[0mvalidation_data\u001b[0m\u001b[0;34m=\u001b[0m\u001b[0;34m(\u001b[0m\u001b[0mX_val\u001b[0m\u001b[0;34m,\u001b[0m \u001b[0my_val\u001b[0m\u001b[0;34m)\u001b[0m\u001b[0;34m,\u001b[0m \u001b[0mbatch_size\u001b[0m\u001b[0;34m=\u001b[0m\u001b[0;36m512\u001b[0m\u001b[0;34m,\u001b[0m \u001b[0mepochs\u001b[0m\u001b[0;34m=\u001b[0m\u001b[0;36m10\u001b[0m\u001b[0;34m,\u001b[0m \u001b[0mshuffle\u001b[0m\u001b[0;34m=\u001b[0m\u001b[0mTrue\u001b[0m\u001b[0;34m,\u001b[0m \u001b[0mcallbacks\u001b[0m\u001b[0;34m=\u001b[0m\u001b[0;34m[\u001b[0m\u001b[0mcheck_cb\u001b[0m\u001b[0;34m,\u001b[0m \u001b[0mearlystop_cb\u001b[0m\u001b[0;34m]\u001b[0m\u001b[0;34m)\u001b[0m\u001b[0;34m\u001b[0m\u001b[0m\n\u001b[0m",
      "\u001b[0;32m/usr/local/lib/python2.7/dist-packages/keras/engine/training.pyc\u001b[0m in \u001b[0;36mfit\u001b[0;34m(self, x, y, batch_size, epochs, verbose, callbacks, validation_split, validation_data, shuffle, class_weight, sample_weight, initial_epoch, **kwargs)\u001b[0m\n\u001b[1;32m   1505\u001b[0m                               \u001b[0mval_f\u001b[0m\u001b[0;34m=\u001b[0m\u001b[0mval_f\u001b[0m\u001b[0;34m,\u001b[0m \u001b[0mval_ins\u001b[0m\u001b[0;34m=\u001b[0m\u001b[0mval_ins\u001b[0m\u001b[0;34m,\u001b[0m \u001b[0mshuffle\u001b[0m\u001b[0;34m=\u001b[0m\u001b[0mshuffle\u001b[0m\u001b[0;34m,\u001b[0m\u001b[0;34m\u001b[0m\u001b[0m\n\u001b[1;32m   1506\u001b[0m                               \u001b[0mcallback_metrics\u001b[0m\u001b[0;34m=\u001b[0m\u001b[0mcallback_metrics\u001b[0m\u001b[0;34m,\u001b[0m\u001b[0;34m\u001b[0m\u001b[0m\n\u001b[0;32m-> 1507\u001b[0;31m                               initial_epoch=initial_epoch)\n\u001b[0m\u001b[1;32m   1508\u001b[0m \u001b[0;34m\u001b[0m\u001b[0m\n\u001b[1;32m   1509\u001b[0m     \u001b[0;32mdef\u001b[0m \u001b[0mevaluate\u001b[0m\u001b[0;34m(\u001b[0m\u001b[0mself\u001b[0m\u001b[0;34m,\u001b[0m \u001b[0mx\u001b[0m\u001b[0;34m,\u001b[0m \u001b[0my\u001b[0m\u001b[0;34m,\u001b[0m \u001b[0mbatch_size\u001b[0m\u001b[0;34m=\u001b[0m\u001b[0;36m32\u001b[0m\u001b[0;34m,\u001b[0m \u001b[0mverbose\u001b[0m\u001b[0;34m=\u001b[0m\u001b[0;36m1\u001b[0m\u001b[0;34m,\u001b[0m \u001b[0msample_weight\u001b[0m\u001b[0;34m=\u001b[0m\u001b[0mNone\u001b[0m\u001b[0;34m)\u001b[0m\u001b[0;34m:\u001b[0m\u001b[0;34m\u001b[0m\u001b[0m\n",
      "\u001b[0;32m/usr/local/lib/python2.7/dist-packages/keras/engine/training.pyc\u001b[0m in \u001b[0;36m_fit_loop\u001b[0;34m(self, f, ins, out_labels, batch_size, epochs, verbose, callbacks, val_f, val_ins, shuffle, callback_metrics, initial_epoch)\u001b[0m\n\u001b[1;32m   1154\u001b[0m                 \u001b[0mbatch_logs\u001b[0m\u001b[0;34m[\u001b[0m\u001b[0;34m'size'\u001b[0m\u001b[0;34m]\u001b[0m \u001b[0;34m=\u001b[0m \u001b[0mlen\u001b[0m\u001b[0;34m(\u001b[0m\u001b[0mbatch_ids\u001b[0m\u001b[0;34m)\u001b[0m\u001b[0;34m\u001b[0m\u001b[0m\n\u001b[1;32m   1155\u001b[0m                 \u001b[0mcallbacks\u001b[0m\u001b[0;34m.\u001b[0m\u001b[0mon_batch_begin\u001b[0m\u001b[0;34m(\u001b[0m\u001b[0mbatch_index\u001b[0m\u001b[0;34m,\u001b[0m \u001b[0mbatch_logs\u001b[0m\u001b[0;34m)\u001b[0m\u001b[0;34m\u001b[0m\u001b[0m\n\u001b[0;32m-> 1156\u001b[0;31m                 \u001b[0mouts\u001b[0m \u001b[0;34m=\u001b[0m \u001b[0mf\u001b[0m\u001b[0;34m(\u001b[0m\u001b[0mins_batch\u001b[0m\u001b[0;34m)\u001b[0m\u001b[0;34m\u001b[0m\u001b[0m\n\u001b[0m\u001b[1;32m   1157\u001b[0m                 \u001b[0;32mif\u001b[0m \u001b[0;32mnot\u001b[0m \u001b[0misinstance\u001b[0m\u001b[0;34m(\u001b[0m\u001b[0mouts\u001b[0m\u001b[0;34m,\u001b[0m \u001b[0mlist\u001b[0m\u001b[0;34m)\u001b[0m\u001b[0;34m:\u001b[0m\u001b[0;34m\u001b[0m\u001b[0m\n\u001b[1;32m   1158\u001b[0m                     \u001b[0mouts\u001b[0m \u001b[0;34m=\u001b[0m \u001b[0;34m[\u001b[0m\u001b[0mouts\u001b[0m\u001b[0;34m]\u001b[0m\u001b[0;34m\u001b[0m\u001b[0m\n",
      "\u001b[0;32m/usr/local/lib/python2.7/dist-packages/keras/backend/tensorflow_backend.pyc\u001b[0m in \u001b[0;36m__call__\u001b[0;34m(self, inputs)\u001b[0m\n\u001b[1;32m   2267\u001b[0m         updated = session.run(self.outputs + [self.updates_op],\n\u001b[1;32m   2268\u001b[0m                               \u001b[0mfeed_dict\u001b[0m\u001b[0;34m=\u001b[0m\u001b[0mfeed_dict\u001b[0m\u001b[0;34m,\u001b[0m\u001b[0;34m\u001b[0m\u001b[0m\n\u001b[0;32m-> 2269\u001b[0;31m                               **self.session_kwargs)\n\u001b[0m\u001b[1;32m   2270\u001b[0m         \u001b[0;32mreturn\u001b[0m \u001b[0mupdated\u001b[0m\u001b[0;34m[\u001b[0m\u001b[0;34m:\u001b[0m\u001b[0mlen\u001b[0m\u001b[0;34m(\u001b[0m\u001b[0mself\u001b[0m\u001b[0;34m.\u001b[0m\u001b[0moutputs\u001b[0m\u001b[0;34m)\u001b[0m\u001b[0;34m]\u001b[0m\u001b[0;34m\u001b[0m\u001b[0m\n\u001b[1;32m   2271\u001b[0m \u001b[0;34m\u001b[0m\u001b[0m\n",
      "\u001b[0;32m/usr/local/lib/python2.7/dist-packages/tensorflow/python/client/session.pyc\u001b[0m in \u001b[0;36mrun\u001b[0;34m(self, fetches, feed_dict, options, run_metadata)\u001b[0m\n\u001b[1;32m    787\u001b[0m     \u001b[0;32mtry\u001b[0m\u001b[0;34m:\u001b[0m\u001b[0;34m\u001b[0m\u001b[0m\n\u001b[1;32m    788\u001b[0m       result = self._run(None, fetches, feed_dict, options_ptr,\n\u001b[0;32m--> 789\u001b[0;31m                          run_metadata_ptr)\n\u001b[0m\u001b[1;32m    790\u001b[0m       \u001b[0;32mif\u001b[0m \u001b[0mrun_metadata\u001b[0m\u001b[0;34m:\u001b[0m\u001b[0;34m\u001b[0m\u001b[0m\n\u001b[1;32m    791\u001b[0m         \u001b[0mproto_data\u001b[0m \u001b[0;34m=\u001b[0m \u001b[0mtf_session\u001b[0m\u001b[0;34m.\u001b[0m\u001b[0mTF_GetBuffer\u001b[0m\u001b[0;34m(\u001b[0m\u001b[0mrun_metadata_ptr\u001b[0m\u001b[0;34m)\u001b[0m\u001b[0;34m\u001b[0m\u001b[0m\n",
      "\u001b[0;32m/usr/local/lib/python2.7/dist-packages/tensorflow/python/client/session.pyc\u001b[0m in \u001b[0;36m_run\u001b[0;34m(self, handle, fetches, feed_dict, options, run_metadata)\u001b[0m\n\u001b[1;32m    995\u001b[0m     \u001b[0;32mif\u001b[0m \u001b[0mfinal_fetches\u001b[0m \u001b[0;32mor\u001b[0m \u001b[0mfinal_targets\u001b[0m\u001b[0;34m:\u001b[0m\u001b[0;34m\u001b[0m\u001b[0m\n\u001b[1;32m    996\u001b[0m       results = self._do_run(handle, final_targets, final_fetches,\n\u001b[0;32m--> 997\u001b[0;31m                              feed_dict_string, options, run_metadata)\n\u001b[0m\u001b[1;32m    998\u001b[0m     \u001b[0;32melse\u001b[0m\u001b[0;34m:\u001b[0m\u001b[0;34m\u001b[0m\u001b[0m\n\u001b[1;32m    999\u001b[0m       \u001b[0mresults\u001b[0m \u001b[0;34m=\u001b[0m \u001b[0;34m[\u001b[0m\u001b[0;34m]\u001b[0m\u001b[0;34m\u001b[0m\u001b[0m\n",
      "\u001b[0;32m/usr/local/lib/python2.7/dist-packages/tensorflow/python/client/session.pyc\u001b[0m in \u001b[0;36m_do_run\u001b[0;34m(self, handle, target_list, fetch_list, feed_dict, options, run_metadata)\u001b[0m\n\u001b[1;32m   1130\u001b[0m     \u001b[0;32mif\u001b[0m \u001b[0mhandle\u001b[0m \u001b[0;32mis\u001b[0m \u001b[0mNone\u001b[0m\u001b[0;34m:\u001b[0m\u001b[0;34m\u001b[0m\u001b[0m\n\u001b[1;32m   1131\u001b[0m       return self._do_call(_run_fn, self._session, feed_dict, fetch_list,\n\u001b[0;32m-> 1132\u001b[0;31m                            target_list, options, run_metadata)\n\u001b[0m\u001b[1;32m   1133\u001b[0m     \u001b[0;32melse\u001b[0m\u001b[0;34m:\u001b[0m\u001b[0;34m\u001b[0m\u001b[0m\n\u001b[1;32m   1134\u001b[0m       return self._do_call(_prun_fn, self._session, handle, feed_dict,\n",
      "\u001b[0;32m/usr/local/lib/python2.7/dist-packages/tensorflow/python/client/session.pyc\u001b[0m in \u001b[0;36m_do_call\u001b[0;34m(self, fn, *args)\u001b[0m\n\u001b[1;32m   1137\u001b[0m   \u001b[0;32mdef\u001b[0m \u001b[0m_do_call\u001b[0m\u001b[0;34m(\u001b[0m\u001b[0mself\u001b[0m\u001b[0;34m,\u001b[0m \u001b[0mfn\u001b[0m\u001b[0;34m,\u001b[0m \u001b[0;34m*\u001b[0m\u001b[0margs\u001b[0m\u001b[0;34m)\u001b[0m\u001b[0;34m:\u001b[0m\u001b[0;34m\u001b[0m\u001b[0m\n\u001b[1;32m   1138\u001b[0m     \u001b[0;32mtry\u001b[0m\u001b[0;34m:\u001b[0m\u001b[0;34m\u001b[0m\u001b[0m\n\u001b[0;32m-> 1139\u001b[0;31m       \u001b[0;32mreturn\u001b[0m \u001b[0mfn\u001b[0m\u001b[0;34m(\u001b[0m\u001b[0;34m*\u001b[0m\u001b[0margs\u001b[0m\u001b[0;34m)\u001b[0m\u001b[0;34m\u001b[0m\u001b[0m\n\u001b[0m\u001b[1;32m   1140\u001b[0m     \u001b[0;32mexcept\u001b[0m \u001b[0merrors\u001b[0m\u001b[0;34m.\u001b[0m\u001b[0mOpError\u001b[0m \u001b[0;32mas\u001b[0m \u001b[0me\u001b[0m\u001b[0;34m:\u001b[0m\u001b[0;34m\u001b[0m\u001b[0m\n\u001b[1;32m   1141\u001b[0m       \u001b[0mmessage\u001b[0m \u001b[0;34m=\u001b[0m \u001b[0mcompat\u001b[0m\u001b[0;34m.\u001b[0m\u001b[0mas_text\u001b[0m\u001b[0;34m(\u001b[0m\u001b[0me\u001b[0m\u001b[0;34m.\u001b[0m\u001b[0mmessage\u001b[0m\u001b[0;34m)\u001b[0m\u001b[0;34m\u001b[0m\u001b[0m\n",
      "\u001b[0;32m/usr/local/lib/python2.7/dist-packages/tensorflow/python/client/session.pyc\u001b[0m in \u001b[0;36m_run_fn\u001b[0;34m(session, feed_dict, fetch_list, target_list, options, run_metadata)\u001b[0m\n\u001b[1;32m   1119\u001b[0m         return tf_session.TF_Run(session, options,\n\u001b[1;32m   1120\u001b[0m                                  \u001b[0mfeed_dict\u001b[0m\u001b[0;34m,\u001b[0m \u001b[0mfetch_list\u001b[0m\u001b[0;34m,\u001b[0m \u001b[0mtarget_list\u001b[0m\u001b[0;34m,\u001b[0m\u001b[0;34m\u001b[0m\u001b[0m\n\u001b[0;32m-> 1121\u001b[0;31m                                  status, run_metadata)\n\u001b[0m\u001b[1;32m   1122\u001b[0m \u001b[0;34m\u001b[0m\u001b[0m\n\u001b[1;32m   1123\u001b[0m     \u001b[0;32mdef\u001b[0m \u001b[0m_prun_fn\u001b[0m\u001b[0;34m(\u001b[0m\u001b[0msession\u001b[0m\u001b[0;34m,\u001b[0m \u001b[0mhandle\u001b[0m\u001b[0;34m,\u001b[0m \u001b[0mfeed_dict\u001b[0m\u001b[0;34m,\u001b[0m \u001b[0mfetch_list\u001b[0m\u001b[0;34m)\u001b[0m\u001b[0;34m:\u001b[0m\u001b[0;34m\u001b[0m\u001b[0m\n",
      "\u001b[0;31mKeyboardInterrupt\u001b[0m: "
     ]
    }
   ],
   "source": [
    "# the actual training is done here\n",
    "model.fit(X_train, y_train, validation_data=(X_val, y_val), class_weight=class_weights, batch_size=512, epochs=10, shuffle=True, callbacks=[check_cb, earlystop_cb])"
   ]
  },
  {
   "cell_type": "code",
   "execution_count": null,
   "metadata": {
    "collapsed": true
   },
   "outputs": [],
   "source": [
    "score = model.evaluate(X_val, y_val, verbose=0)\n",
    "print('Test loss:', score[0])\n",
    "print('Test accuracy:', score[1])"
   ]
  },
  {
   "cell_type": "code",
   "execution_count": 31,
   "metadata": {
    "collapsed": true
   },
   "outputs": [],
   "source": [
    "## testing\n",
    "# use model to predict labels for test sentences\n",
    "y_pred = model.predict(X_test)\n",
    "# convert softmax probabilities to class labels\n",
    "y_label = np.argmax(y_pred, axis=1)"
   ]
  },
  {
   "cell_type": "code",
   "execution_count": 32,
   "metadata": {},
   "outputs": [
    {
     "data": {
      "image/png": "[encoded data removed]",
      "text/plain": [
       "<matplotlib.figure.Figure at 0x7f2b380c0350>"
      ]
     },
     "metadata": {},
     "output_type": "display_data"
    }
   ],
   "source": [
    "# sanity test for labels\n",
    "bins = range(13)\n",
    "hist, bin_edges = np.histogram(y_label, bins, density=False)\n",
    "# shows a nice plot of the histogram of labels\n",
    "plt.title(\"Predicted Label Histogram\")\n",
    "plt.xlabel(\"Label\")\n",
    "plt.ylabel(\"Frequency in percentage\")\n",
    "plt.bar(bin_edges[:-1], hist, width=1)\n",
    "plt.xlim(min(bin_edges), max(bin_edges))\n",
    "plt.show()  \n",
    "\n",
    "# we see in this plot that there is actually not an even distribution of labels"
   ]
  },
  {
   "cell_type": "code",
   "execution_count": null,
   "metadata": {
    "collapsed": true
   },
   "outputs": [],
   "source": [
    "# write test sentences to txt file\n",
    "np.savetxt(\"ytest.txt\", y_label, fmt=\"%i\")"
   ]
  },
  {
   "cell_type": "code",
   "execution_count": null,
   "metadata": {
    "collapsed": true
   },
   "outputs": [],
   "source": [
    "print hist"
   ]
  },
  {
   "cell_type": "code",
   "execution_count": null,
   "metadata": {
    "collapsed": true
   },
   "outputs": [],
   "source": []
  }
 ],
 "metadata": {
  "kernelspec": {
   "display_name": "Python 2",
   "language": "python",
   "name": "python2"
  },
  "language_info": {
   "codemirror_mode": {
    "name": "ipython",
    "version": 2
   },
   "file_extension": ".py",
   "mimetype": "text/x-python",
   "name": "python",
   "nbconvert_exporter": "python",
   "pygments_lexer": "ipython2",
   "version": "2.7.12"
  }
 },
 "nbformat": 4,
 "nbformat_minor": 1
}
