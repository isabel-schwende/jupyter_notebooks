{
 "cells": [
  {
   "cell_type": "code",
   "execution_count": 1,
   "metadata": {},
   "outputs": [
    {
     "name": "stderr",
     "output_type": "stream",
     "text": [
      "Using TensorFlow backend.\n"
     ]
    }
   ],
   "source": [
    "%matplotlib inline\n",
    "# data preparation imports\n",
    "import matplotlib.pyplot as plt\n",
    "import numpy as np\n",
    "from scipy.stats import normaltest\n",
    "from collections import Counter\n",
    "import re\n",
    "import sklearn as sk\n",
    "import math\n",
    "from sklearn.model_selection import train_test_split\n",
    "\n",
    "# TODO: cleanup imports\n",
    "from keras.models import Model\n",
    "from keras.layers import Dense, Input, Dropout, GlobalMaxPool1D\n",
    "from keras.layers import merge, Lambda, concatenate, BatchNormalization, Reshape\n",
    "from keras.layers import TimeDistributed, LSTM\n",
    "from keras.optimizers import RMSprop\n",
    "import keras.backend as K\n",
    "import tensorflow as tf\n",
    "import keras.callbacks\n",
    "\n",
    "import os\n",
    "import sys\n",
    "stdout = sys.stdout\n",
    "reload(sys)\n",
    "sys.setdefaultencoding('utf-8')\n",
    "sys.stdout = stdout"
   ]
  },
  {
   "cell_type": "code",
   "execution_count": 2,
   "metadata": {
    "collapsed": true
   },
   "outputs": [],
   "source": [
    "# import x for training, the sentences\n",
    "with open('./data/xtrain.txt') as f:\n",
    "    text = f.read()"
   ]
  },
  {
   "cell_type": "code",
   "execution_count": 3,
   "metadata": {
    "collapsed": true
   },
   "outputs": [],
   "source": [
    "# process data to remove empty line\n",
    "xdata = text.split('\\n')\n",
    "xdata = filter(None, xdata)\n",
    "xdata = np.asarray(xdata)"
   ]
  },
  {
   "cell_type": "code",
   "execution_count": 4,
   "metadata": {
    "collapsed": true
   },
   "outputs": [],
   "source": [
    "# import y for training, the ground truth labels\n",
    "with open('./data/ytrain.txt') as f:\n",
    "    labeltext = f.read()"
   ]
  },
  {
   "cell_type": "code",
   "execution_count": 5,
   "metadata": {
    "collapsed": true
   },
   "outputs": [],
   "source": [
    "# preprocess y to remove emtpy string and convert to integers for checks\n",
    "ydata_str = labeltext.split('\\n')\n",
    "ydata_str = filter(None, ydata_str) \n",
    "\n",
    "ydata = [int(numeric_string) for numeric_string in ydata_str]"
   ]
  },
  {
   "cell_type": "code",
   "execution_count": 6,
   "metadata": {},
   "outputs": [
    {
     "name": "stdout",
     "output_type": "stream",
     "text": [
      "Checking if the number of sentences and labels is equal: True\n"
     ]
    }
   ],
   "source": [
    "# verify that both x and y have the same number of entries\n",
    "print \"Checking if the number of sentences and labels is equal:\", len(xdata)==len(ydata)"
   ]
  },
  {
   "cell_type": "code",
   "execution_count": 7,
   "metadata": {
    "collapsed": true
   },
   "outputs": [],
   "source": [
    "# manually load the list of book titles for nicer prints\n",
    "# I fixed a minor spelling error in one of the book titles here\n",
    "book_titles = ['alice_in_wonderland','dracula','dubliners','great_expectations','hard_times','huckleberry_finn',\n",
    "               'les_miserable','moby_dick','oliver_twist','peter_pan','tale_of_two_cities','tom_sawyer']"
   ]
  },
  {
   "cell_type": "code",
   "execution_count": 8,
   "metadata": {
    "collapsed": true
   },
   "outputs": [],
   "source": [
    "## Sanity check for labels\n",
    "# let's take a look at the labels first\n",
    "# it makes sense to take a look at the labels \n",
    "# I like histograms since it's important to check how our labels are distributed \n",
    "bins = range(13)\n",
    "hist, bin_edges = np.histogram(ydata, bins, density=True)"
   ]
  },
  {
   "cell_type": "code",
   "execution_count": 9,
   "metadata": {},
   "outputs": [
    {
     "data": {
      "image/png": "[encoded data removed]",
      "text/plain": [
       "<matplotlib.figure.Figure at 0x7f3da41fe0d0>"
      ]
     },
     "metadata": {},
     "output_type": "display_data"
    }
   ],
   "source": [
    "# shows a nice plot of the histogram of labels\n",
    "plt.title(\"Label Histogram\")\n",
    "plt.xlabel(\"Label\")\n",
    "plt.ylabel(\"Frequency in percentage\")\n",
    "plt.bar(bin_edges[:-1], hist, width=1)\n",
    "plt.xlim(min(bin_edges), max(bin_edges))\n",
    "plt.show()  \n",
    "\n",
    "# we see in this plot that there is actually not an even distribution of labels"
   ]
  },
  {
   "cell_type": "code",
   "execution_count": 10,
   "metadata": {},
   "outputs": [
    {
     "name": "stdout",
     "output_type": "stream",
     "text": [
      "The book alice_in_wonderland, with index 0, has the lowest number of samples, 1.704754 percent.\n",
      "The book moby_dick, with index 7, has the highest number of samples, 15.614689 percent.\n",
      "That means that we have about 9 times more samples from moby_dick than from alice_in_wonderland.\n"
     ]
    }
   ],
   "source": [
    "# print a few interesting numbers about the histogram\n",
    "print (\"The book %s, with index %i, has the lowest number of samples, %f percent.\"\n",
    "%(book_titles[np.argmin(hist)],np.argmin(hist),min(hist)*100) )\n",
    "print (\"The book %s, with index %i, has the highest number of samples, %f percent.\"\n",
    "%(book_titles[np.argmax(hist)],np.argmax(hist),max(hist)*100) )\n",
    "\n",
    "print (\"That means that we have about %i times more samples from %s than from %s.\"\n",
    "%(max(hist)/min(hist),book_titles[np.argmax(hist)],book_titles[np.argmin(hist)]) )"
   ]
  },
  {
   "cell_type": "code",
   "execution_count": 11,
   "metadata": {
    "collapsed": true
   },
   "outputs": [],
   "source": [
    "# I've done a few training test runs and realized that the number of labels is screwed so badly that the prediction\n",
    "# didn't work well. For example I obtained this histogram of predicted labels for the test data:\n",
    "# [   0  252    0   72    0    0 2063  434  179    0    0    0] \n",
    "# so some classes were not predicted at all, while only the most common 5 classes were predicted\n",
    "# labels_dict : {ind_label: count_label}\n",
    "\n",
    "def create_class_weight(labels_dict,mu=0.15):\n",
    "    total = np.sum(labels_dict.values())\n",
    "    keys = labels_dict.keys()\n",
    "    class_weight = dict()\n",
    "\n",
    "    for key in keys:\n",
    "        score = math.log(mu*total/float(labels_dict[key]))\n",
    "        class_weight[key] = score if score > 1.0 else 1.0\n",
    "\n",
    "    return class_weight"
   ]
  },
  {
   "cell_type": "code",
   "execution_count": 12,
   "metadata": {
    "collapsed": true
   },
   "outputs": [],
   "source": [
    "## Clean up sentences\n",
    "# Some early experiments showed that there were some non-ascii characters in the sentence data\n",
    "# I've decided to remove these\n",
    "uni_x = [sen.encode('ascii', 'ignore') for sen in xdata]"
   ]
  },
  {
   "cell_type": "code",
   "execution_count": 13,
   "metadata": {},
   "outputs": [
    {
     "name": "stdout",
     "output_type": "stream",
     "text": [
      "The longest sentence in the training data has 189 symbols, while the shortest has 54 symbols.\n",
      "The average sentence length is 167.874404 and the standard deviation is 8.061963.\n"
     ]
    }
   ],
   "source": [
    "## Sanity check for sentences x\n",
    "x_len = [len(sen) for sen in uni_x]\n",
    "min_len = min(x_len)\n",
    "max_len = max(x_len)\n",
    "print \"The longest sentence in the training data has %i symbols, while the shortest has %i symbols.\"%(max_len,min_len)\n",
    "print(\"The average sentence length is %f and the standard deviation is %f.\"% (np.mean(x_len),np.std(x_len)))\n",
    "\n",
    "# so the length of the sentences varies but not that much, especially the very short sentences seem to be outliers"
   ]
  },
  {
   "cell_type": "code",
   "execution_count": 14,
   "metadata": {},
   "outputs": [
    {
     "name": "stdout",
     "output_type": "stream",
     "text": [
      "[   1    0    0    0    0    1    0    0    0    0    0    0    0    0    0\n",
      "    0    0    0    0    0    0    0    0    0    0    1    2    1    0    0\n",
      "    0    0    0    0    0    0    1    0    0    0    1    0    1    0    0\n",
      "    0    0    0    0    0    0    0    1    0    1    1    0    0    0    0\n",
      "    2    5    0    1    4    3    3    1    2    4    2    4    5    6    6\n",
      "   11   10    6   13   19   18   15   33   23   18   38   43   40   49   64\n",
      "   58   76   90   92  143  144  158  194  196  260  280  313  346  410  430\n",
      "  480  577  645  791  914 1083 1259 1476 1760 1893 2122 2245 2245 2212 2029\n",
      " 1783 1584 1239  904  688  469  286  196   80   59   29   19    8    6]\n"
     ]
    },
    {
     "data": {
      "image/png": "[encoded data removed]",
      "text/plain": [
       "<matplotlib.figure.Figure at 0x7f3da41f7d90>"
      ]
     },
     "metadata": {},
     "output_type": "display_data"
    }
   ],
   "source": [
    "bins = range(min_len,max_len,1)\n",
    "hist, bin_edges = np.histogram(x_len,bins,density=False )\n",
    "print hist\n",
    "\n",
    "# shows a nice plot of the histogram of sentence lengths\n",
    "plt.title(\"Sentence length Histogram\")\n",
    "plt.xlabel(\"Sequence length\")\n",
    "plt.ylabel(\"Frequency absolute numbers\")\n",
    "plt.bar(bin_edges[:-1], hist, width = 1)\n",
    "plt.xlim(min(bin_edges), max(bin_edges))\n",
    "plt.show()  \n",
    "\n",
    "# we see in this plot that the sentence length appears to be normally distributed"
   ]
  },
  {
   "cell_type": "code",
   "execution_count": 15,
   "metadata": {},
   "outputs": [
    {
     "name": "stdout",
     "output_type": "stream",
     "text": [
      "statistical test for: p value for normality = 0.000000 .\n"
     ]
    }
   ],
   "source": [
    "print(\"statistical test for: p value for normality = %f .\"%(normaltest(x_len)[1]) )\n",
    "\n",
    "# theory that the data was picked with normally distributed sentence length can't be rejected"
   ]
  },
  {
   "cell_type": "code",
   "execution_count": 16,
   "metadata": {
    "collapsed": true
   },
   "outputs": [],
   "source": [
    "def histogram_letters(L):\n",
    "    d = Counter(letter for line in L for letter in line)\n",
    "    for letter in d:\n",
    "        print('{} | {}'.format(letter, d[letter]))\n",
    "    return d"
   ]
  },
  {
   "cell_type": "code",
   "execution_count": 17,
   "metadata": {},
   "outputs": [
    {
     "name": "stdout",
     "output_type": "stream",
     "text": [
      "! | 6720\n",
      "# | 3\n",
      "\" | 4520\n",
      "$ | 3\n",
      "' | 10332\n",
      "& | 15\n",
      ") | 804\n",
      "( | 833\n",
      "* | 48\n",
      "- | 19931\n",
      ", | 108481\n",
      "/ | 3\n",
      ". | 50053\n",
      "1 | 364\n",
      "0 | 223\n",
      "3 | 113\n",
      "2 | 159\n",
      "5 | 123\n",
      "4 | 73\n",
      "7 | 96\n",
      "6 | 48\n",
      "9 | 64\n",
      "8 | 159\n",
      "; | 15494\n",
      ": | 2440\n",
      "= | 11\n",
      "< | 6\n",
      "? | 4670\n",
      "> | 6\n",
      "[ | 116\n",
      "] | 103\n",
      "_ | 3365\n",
      "a | 428514\n",
      "c | 118709\n",
      "b | 83080\n",
      "e | 651182\n",
      "d | 242642\n",
      "g | 112092\n",
      "f | 112291\n",
      "i | 357560\n",
      "h | 353582\n",
      "k | 46716\n",
      "j | 8225\n",
      "m | 135069\n",
      "l | 211696\n",
      "o | 402570\n",
      "n | 364930\n",
      "q | 5371\n",
      "p | 85532\n",
      "s | 327557\n",
      "r | 293094\n",
      "u | 147819\n",
      "t | 484089\n",
      "w | 134334\n",
      "v | 46785\n",
      "y | 103313\n",
      "x | 6212\n",
      "{ | 4\n",
      "z | 2515\n",
      "} | 3\n"
     ]
    }
   ],
   "source": [
    "## histogram of the letters\n",
    "l_hist = histogram_letters(uni_x)"
   ]
  },
  {
   "cell_type": "code",
   "execution_count": 18,
   "metadata": {},
   "outputs": [
    {
     "name": "stdout",
     "output_type": "stream",
     "text": [
      "For embedding the sentences, we will use an alphabet with 46 letters with at least 100 occurences in the training set.\n"
     ]
    }
   ],
   "source": [
    "## analysis\n",
    "# 'e', 't' and 'a' are most common letters, which was expectable for a dataset using English language text\n",
    "# I've decided to include punctuation in my model since it could give interesting clues about the novel (or author)\n",
    "# however I've also decided to ignore some rare symbols - less than 100 occurences\n",
    "# the alphabet to consider doesn't include these symbols\n",
    "alphabet = []\n",
    "\n",
    "for letter in l_hist:\n",
    "    if l_hist[letter]>=100:\n",
    "        alphabet = np.append(alphabet, letter)\n",
    "\n",
    "print(\"For embedding the sentences, we will use an alphabet with %i letters with at least 100 occurences in the training set.\"\n",
    "%len(alphabet))"
   ]
  },
  {
   "cell_type": "code",
   "execution_count": 19,
   "metadata": {},
   "outputs": [
    {
     "name": "stdout",
     "output_type": "stream",
     "text": [
      "{'!': 1, '\"': 2, \"'\": 3, ')': 4, '(': 5, '-': 6, ',': 7, '.': 8, '1': 9, '0': 10, '3': 11, '2': 12, '5': 13, '8': 14, ';': 15, ':': 16, '?': 17, '[': 18, ']': 19, '_': 20, 'a': 21, 'c': 22, 'b': 23, 'e': 24, 'd': 25, 'g': 26, 'f': 27, 'i': 28, 'h': 29, 'k': 30, 'j': 31, 'm': 32, 'l': 33, 'o': 34, 'n': 35, 'q': 36, 'p': 37, 's': 38, 'r': 39, 'u': 40, 't': 41, 'w': 42, 'v': 43, 'y': 44, 'x': 45, 'z': 46}\n"
     ]
    }
   ],
   "source": [
    "enumeration = dict(enumerate(alphabet,1))\n",
    "alphabet_dict = dict (zip(enumeration.values(),enumeration.keys()))\n",
    "\n",
    "print alphabet_dict\n",
    "            \n",
    "X = np.ones((len(uni_x), max_len), dtype=np.int64) *-1\n",
    "\n",
    "for i, sentence in enumerate(uni_x):\n",
    "    for j, char in enumerate(sentence):\n",
    "        if char in alphabet:\n",
    "            X[i,j] = alphabet_dict[char]\n",
    "            \n",
    "# Note: this code leaves rare symbols as -1, which is also used for padding the sentences"
   ]
  },
  {
   "cell_type": "code",
   "execution_count": 20,
   "metadata": {},
   "outputs": [
    {
     "name": "stdout",
     "output_type": "stream",
     "text": [
      "The longest sentence in the test data has 185 symbols, while the shortest has 87 symbols.\n",
      "The average sentence length is 168.027000 and the standard deviation is 8.201480.\n"
     ]
    }
   ],
   "source": [
    "## loading and preparing of test data \n",
    "with open('./data/xtest.txt') as f:\n",
    "    text = f.read()\n",
    "    \n",
    "test_data = text.split('\\n')\n",
    "test_data = filter(None, test_data)\n",
    "test_data = np.asarray(test_data)\n",
    "uni_test = [sen.encode('ascii', 'ignore') for sen in test_data]\n",
    "\n",
    "test_len = [len(sen) for sen in uni_test]\n",
    "min_len = min(test_len)\n",
    "max_len_test = max(test_len)\n",
    "print \"The longest sentence in the test data has %i symbols, while the shortest has %i symbols.\"%(max_len_test,min_len)\n",
    "print(\"The average sentence length is %f and the standard deviation is %f.\"% (np.mean(test_len),np.std(test_len)))\n",
    "\n",
    "# I'm using the same alphabet as extracted from the training data and the maximum length of the training sentences\n",
    "X_test = np.ones((len(uni_test), np.shape(X)[1]), dtype=np.int64) *-1\n",
    "\n",
    "# we cut the sentences of the test set off since we use the maximum length of the training sentences\n",
    "for i, sentence in enumerate(uni_test):\n",
    "    for j, char in enumerate(sentence):\n",
    "        if char in alphabet and j < len(uni_x):\n",
    "            X_test[i,j] = alphabet_dict[char]\n",
    "            \n"
   ]
  },
  {
   "cell_type": "code",
   "execution_count": 21,
   "metadata": {
    "collapsed": true
   },
   "outputs": [],
   "source": [
    "## one-hot encoding\n",
    "# we have to embedd our characters so that we can use them as numerical vectors\n",
    "\n",
    "# technically also other embeddings are available such as char2vec but since of the time constraint, I decided to use one-hot\n",
    "# I think a better embedding could lead to a significantly better model\n",
    "\n",
    "# a depth of 64 should be enough since there are 46 characters in this challenge\n",
    "p_depth = 64\n",
    "\n",
    "# defining this function to call it on the fly\n",
    "def transform_one_hot(x, p_depth=64):\n",
    "    return tf.to_float(tf.one_hot(x, p_depth, on_value=1, off_value=0, axis=-1))\n",
    "\n",
    "def one_hot_outshape(in_shape):\n",
    "    return in_shape[0], in_shape[1], p_depth"
   ]
  },
  {
   "cell_type": "code",
   "execution_count": 22,
   "metadata": {
    "collapsed": true
   },
   "outputs": [],
   "source": [
    "## data split for validation\n",
    "\n",
    "# split into training and validation from train.txt\n",
    "X_train, X_val, y_train, y_val = train_test_split(X, ydata, test_size=0.05, random_state=0)\n",
    "# since our dataset is already pretty small, we can only afford to have a very small validation set\n",
    "\n",
    "# X_test is kept intact for predictions"
   ]
  },
  {
   "cell_type": "code",
   "execution_count": 23,
   "metadata": {
    "collapsed": true
   },
   "outputs": [],
   "source": [
    "## resampling\n",
    "# the bias in our data was so big that I decided to resample the training data\n",
    "# this function outputs a binary index vector which samples should be kept for training\n",
    "\n",
    "# sampling ratio can be technically any number but should be greater or equal to 1\n",
    "def sampling_train(y_tr, sampling_ratio=1.0):\n",
    "    bins = range(13)\n",
    "    hist, bin_edges = np.histogram(y_tr, bins, density=False)\n",
    "    # how many samples to take per class - relative to smallest class\n",
    "    n_samples = int(np.min(hist) * sampling_ratio)\n",
    "    \n",
    "    for label in range(len(book_titles)):\n",
    "        idx = np.where(np.equal(y_tr,label))\n",
    "        idx = idx[0]\n",
    "        #shuffle labels\n",
    "        np.random.shuffle(idx)\n",
    "        if n_samples < hist[label]:\n",
    "            idx = idx[:n_samples]\n",
    "        if label == 0:\n",
    "            indices = idx\n",
    "        else:\n",
    "            indices = np.concatenate((indices,idx),axis=0)\n",
    "    np.random.shuffle(indices)\n",
    "    return indices\n"
   ]
  },
  {
   "cell_type": "code",
   "execution_count": 24,
   "metadata": {
    "collapsed": true
   },
   "outputs": [],
   "source": [
    "## model design\n",
    "# character-level LSTM, for details please see the model explanation file"
   ]
  },
  {
   "cell_type": "code",
   "execution_count": 25,
   "metadata": {
    "collapsed": true
   },
   "outputs": [],
   "source": [
    "## (hyper-)parameters\n",
    "# definition of hyperparameters relevant to this task\n",
    "\n",
    "# dropout rate for regularization\n",
    "p_dropout = 0.1\n",
    "\n",
    "lstm_h = 100\n",
    "\n",
    "# Load checkpoint if exists\n",
    "checkpoint = False\n",
    "# check if grid search is wanted\n",
    "grid_search = False"
   ]
  },
  {
   "cell_type": "code",
   "execution_count": 26,
   "metadata": {},
   "outputs": [
    {
     "name": "stdout",
     "output_type": "stream",
     "text": [
      "_________________________________________________________________\n",
      "Layer (type)                 Output Shape              Param #   \n",
      "=================================================================\n",
      "input_1 (InputLayer)         (None, 189)               0         \n",
      "_________________________________________________________________\n",
      "lambda_1 (Lambda)            (None, 189, 64)           0         \n",
      "_________________________________________________________________\n",
      "lstm_1 (LSTM)                (None, 189, 100)          66000     \n",
      "_________________________________________________________________\n",
      "lstm_2 (LSTM)                (None, 100)               80400     \n",
      "_________________________________________________________________\n",
      "dropout_1 (Dropout)          (None, 100)               0         \n",
      "_________________________________________________________________\n",
      "dense_1 (Dense)              (None, 128)               12928     \n",
      "_________________________________________________________________\n",
      "dropout_2 (Dropout)          (None, 128)               0         \n",
      "_________________________________________________________________\n",
      "dense_2 (Dense)              (None, 12)                1548      \n",
      "=================================================================\n",
      "Total params: 160,876\n",
      "Trainable params: 160,876\n",
      "Non-trainable params: 0\n",
      "_________________________________________________________________\n"
     ]
    }
   ],
   "source": [
    "## The main model in keras\n",
    "# insert the input sentence and embedd to one-hot space on-the-fly\n",
    "in_sentence = Input(shape=(max_len,), dtype='int64')\n",
    "embedded = Lambda(transform_one_hot, output_shape=one_hot_outshape)(in_sentence)\n",
    "\n",
    "lstm_layer = LSTM(lstm_h, return_sequences=True, dropout=p_dropout, recurrent_dropout=0.2, implementation=0)(embedded)\n",
    "lstm_layer2 = LSTM(lstm_h, return_sequences=False, dropout=p_dropout, recurrent_dropout=0.2, implementation=0)(lstm_layer)\n",
    "\n",
    "# added fully connected layer\n",
    "feature_vec = Dropout(p_dropout)(lstm_layer2)\n",
    "feature_vec = Dense(128, activation='relu', kernel_initializer='glorot_normal')(feature_vec)\n",
    "\n",
    "# apply dropout for regularization\n",
    "to_out = Dropout(p_dropout)(feature_vec)\n",
    "\n",
    "# output = Dropout(0.2)(bi_lstm)\n",
    "output = Dense(12, activation='softmax', kernel_initializer='lecun_uniform')(to_out)\n",
    "\n",
    "model = Model(outputs=output, inputs=in_sentence)\n",
    "model.summary()\n",
    "    \n"
   ]
  },
  {
   "cell_type": "code",
   "execution_count": 27,
   "metadata": {
    "collapsed": true
   },
   "outputs": [],
   "source": [
    "if checkpoint:\n",
    "    model.load_weights(checkpoint_dir)\n",
    "\n",
    "file_name = 'char-level-cnn'\n",
    "check_cb = keras.callbacks.ModelCheckpoint('checkpoints/' + file_name + '.{epoch:02d}-{val_loss:.2f}.hdf5',\n",
    "                                            monitor='val_loss',\n",
    "                                            verbose=0, save_best_only=True, mode='min')\n",
    "\n",
    "earlystop_cb = keras.callbacks.EarlyStopping(monitor='val_loss', patience=5, verbose=0, mode='auto')\n",
    "\n",
    "# TODO: set learning rate decay\n",
    "optimizer = RMSprop(lr=0.001, decay=0.0001)\n",
    "# using loss for multiclass problem\n",
    "# combination of categorical_crossentropy and softmax good for multiclass label problem"
   ]
  },
  {
   "cell_type": "code",
   "execution_count": 28,
   "metadata": {
    "collapsed": true
   },
   "outputs": [],
   "source": [
    "# following the keras documentation, I've realized that the labels have to be formatted this way in order to use\n",
    "# the categorical cross entropy loss\n",
    "\n",
    "y_val = keras.utils.to_categorical(y_val, 12)\n",
    "#X_val = X_val.reshape(len(X_val), 1, max_len) "
   ]
  },
  {
   "cell_type": "code",
   "execution_count": 29,
   "metadata": {},
   "outputs": [
    {
     "name": "stdout",
     "output_type": "stream",
     "text": [
      "Train on 7550 samples, validate on 1637 samples\n",
      "Epoch 1/5\n",
      "7550/7550 [==============================] - 70s - loss: 2.4804 - acc: 0.0893 - val_loss: 2.4179 - val_acc: 0.1411\n",
      "Epoch 2/5\n",
      "7550/7550 [==============================] - 70s - loss: 2.4549 - acc: 0.1142 - val_loss: 2.4065 - val_acc: 0.1472\n",
      "Epoch 3/5\n",
      "7550/7550 [==============================] - 71s - loss: 2.4466 - acc: 0.1241 - val_loss: 2.4698 - val_acc: 0.1069\n",
      "Epoch 4/5\n",
      "7550/7550 [==============================] - 71s - loss: 2.4418 - acc: 0.1264 - val_loss: 2.4285 - val_acc: 0.1069\n",
      "Epoch 5/5\n",
      "7550/7550 [==============================] - 73s - loss: 2.4378 - acc: 0.1258 - val_loss: 2.4481 - val_acc: 0.1423\n",
      "Train on 7550 samples, validate on 1637 samples\n",
      "Epoch 1/5\n",
      "7550/7550 [==============================] - 73s - loss: 2.4388 - acc: 0.1253 - val_loss: 2.4182 - val_acc: 0.1552\n",
      "Epoch 2/5\n",
      "7550/7550 [==============================] - 73s - loss: 2.4384 - acc: 0.1193 - val_loss: 2.4095 - val_acc: 0.1497\n",
      "Epoch 3/5\n",
      "7550/7550 [==============================] - 72s - loss: 2.4332 - acc: 0.1294 - val_loss: 2.4097 - val_acc: 0.1521\n",
      "Epoch 4/5\n",
      "7550/7550 [==============================] - 73s - loss: 2.4341 - acc: 0.1261 - val_loss: 2.4228 - val_acc: 0.1552\n",
      "Epoch 5/5\n",
      "7550/7550 [==============================] - 73s - loss: 2.4344 - acc: 0.1258 - val_loss: 2.4139 - val_acc: 0.1503\n",
      "Train on 7550 samples, validate on 1637 samples\n",
      "Epoch 1/5\n",
      "7550/7550 [==============================] - 71s - loss: 2.4254 - acc: 0.1295 - val_loss: 2.4317 - val_acc: 0.1546\n",
      "Epoch 2/5\n",
      "7550/7550 [==============================] - 73s - loss: 2.4225 - acc: 0.1350 - val_loss: 2.3950 - val_acc: 0.1631\n",
      "Epoch 3/5\n",
      "7550/7550 [==============================] - 73s - loss: 2.4188 - acc: 0.1364 - val_loss: 2.4492 - val_acc: 0.1234\n",
      "Epoch 4/5\n",
      "7550/7550 [==============================] - 72s - loss: 2.4159 - acc: 0.1374 - val_loss: 2.3849 - val_acc: 0.1765\n",
      "Epoch 5/5\n",
      "7550/7550 [==============================] - 72s - loss: 2.4115 - acc: 0.1419 - val_loss: 2.3696 - val_acc: 0.1594\n",
      "Train on 7550 samples, validate on 1637 samples\n",
      "Epoch 1/5\n",
      "7550/7550 [==============================] - 72s - loss: 2.3978 - acc: 0.1518 - val_loss: 2.3280 - val_acc: 0.1729\n",
      "Epoch 2/5\n",
      "7550/7550 [==============================] - 72s - loss: 2.3926 - acc: 0.1515 - val_loss: 2.3699 - val_acc: 0.1796\n",
      "Epoch 3/5\n",
      "7550/7550 [==============================] - 72s - loss: 2.3907 - acc: 0.1599 - val_loss: 2.3097 - val_acc: 0.1833\n",
      "Epoch 4/5\n",
      "7550/7550 [==============================] - 72s - loss: 2.3805 - acc: 0.1595 - val_loss: 2.3415 - val_acc: 0.1790\n",
      "Epoch 5/5\n",
      "7550/7550 [==============================] - 72s - loss: 2.3668 - acc: 0.1683 - val_loss: 2.2983 - val_acc: 0.1979\n",
      "Train on 7550 samples, validate on 1637 samples\n",
      "Epoch 1/5\n",
      "7550/7550 [==============================] - 72s - loss: 2.4135 - acc: 0.1363 - val_loss: 2.3409 - val_acc: 0.1796\n",
      "Epoch 2/5\n",
      "7550/7550 [==============================] - 72s - loss: 2.3233 - acc: 0.1657 - val_loss: 2.2725 - val_acc: 0.1979\n",
      "Epoch 3/5\n",
      "7550/7550 [==============================] - 72s - loss: 2.2926 - acc: 0.1709 - val_loss: 2.3122 - val_acc: 0.1759\n",
      "Epoch 4/5\n",
      "7550/7550 [==============================] - 72s - loss: 2.2769 - acc: 0.1789 - val_loss: 2.1966 - val_acc: 0.1949\n",
      "Epoch 5/5\n",
      "7550/7550 [==============================] - 71s - loss: 2.4666 - acc: 0.1069 - val_loss: 2.5026 - val_acc: 0.0611\n",
      "Train on 7550 samples, validate on 1637 samples\n",
      "Epoch 1/5\n",
      "7550/7550 [==============================] - 71s - loss: 2.4596 - acc: 0.1142 - val_loss: 2.4458 - val_acc: 0.1020\n",
      "Epoch 2/5\n",
      "7550/7550 [==============================] - 71s - loss: 2.4681 - acc: 0.1012 - val_loss: 2.4590 - val_acc: 0.1112\n",
      "Epoch 3/5\n",
      "7550/7550 [==============================] - 71s - loss: 2.3470 - acc: 0.1566 - val_loss: 2.2060 - val_acc: 0.2291\n",
      "Epoch 4/5\n",
      "7550/7550 [==============================] - 71s - loss: 2.2724 - acc: 0.1811 - val_loss: 2.2213 - val_acc: 0.1936\n",
      "Epoch 5/5\n",
      "7550/7550 [==============================] - 71s - loss: 2.2705 - acc: 0.1777 - val_loss: 2.1790 - val_acc: 0.2010\n",
      "Train on 7550 samples, validate on 1637 samples\n",
      "Epoch 1/5\n",
      "7550/7550 [==============================] - 71s - loss: 2.2564 - acc: 0.1740 - val_loss: 2.1570 - val_acc: 0.2291\n",
      "Epoch 2/5\n",
      "7550/7550 [==============================] - 72s - loss: 2.2683 - acc: 0.1789 - val_loss: 2.3146 - val_acc: 0.1643\n",
      "Epoch 3/5\n",
      "7550/7550 [==============================] - 71s - loss: 2.4430 - acc: 0.1118 - val_loss: 2.3615 - val_acc: 0.1558\n",
      "Epoch 4/5\n",
      "7550/7550 [==============================] - 71s - loss: 2.2693 - acc: 0.1767 - val_loss: 2.1693 - val_acc: 0.2211\n",
      "Epoch 5/5\n",
      "7550/7550 [==============================] - 72s - loss: 2.3488 - acc: 0.1646 - val_loss: 2.1561 - val_acc: 0.2321\n",
      "Train on 7550 samples, validate on 1637 samples\n",
      "Epoch 1/5\n",
      "7550/7550 [==============================] - 72s - loss: 2.2293 - acc: 0.1885 - val_loss: 2.1418 - val_acc: 0.2389\n",
      "Epoch 2/5\n",
      "7550/7550 [==============================] - 71s - loss: 2.2355 - acc: 0.1901 - val_loss: 2.1862 - val_acc: 0.2224\n",
      "Epoch 3/5\n",
      "7550/7550 [==============================] - 71s - loss: 2.2575 - acc: 0.1860 - val_loss: 2.2021 - val_acc: 0.1717\n",
      "Epoch 4/5\n",
      "7550/7550 [==============================] - 71s - loss: 2.2082 - acc: 0.1902 - val_loss: 2.1699 - val_acc: 0.2211\n",
      "Epoch 5/5\n",
      "7550/7550 [==============================] - 72s - loss: 2.2073 - acc: 0.1923 - val_loss: 2.1446 - val_acc: 0.2486\n",
      "Train on 7550 samples, validate on 1637 samples\n",
      "Epoch 1/5\n",
      "7550/7550 [==============================] - 70s - loss: 2.2270 - acc: 0.1860 - val_loss: 2.1883 - val_acc: 0.2077\n",
      "Epoch 2/5\n",
      "7550/7550 [==============================] - 71s - loss: 2.2471 - acc: 0.1885 - val_loss: 2.1555 - val_acc: 0.2059\n",
      "Epoch 3/5\n",
      "7550/7550 [==============================] - 71s - loss: 2.2063 - acc: 0.1940 - val_loss: 2.1331 - val_acc: 0.2242\n",
      "Epoch 4/5\n",
      "7550/7550 [==============================] - 71s - loss: 2.2026 - acc: 0.1938 - val_loss: 2.1202 - val_acc: 0.2266\n",
      "Epoch 5/5\n",
      "7550/7550 [==============================] - 71s - loss: 2.2081 - acc: 0.1981 - val_loss: 2.1313 - val_acc: 0.2266\n",
      "Train on 7550 samples, validate on 1637 samples\n",
      "Epoch 1/5\n",
      "7550/7550 [==============================] - 70s - loss: 2.1915 - acc: 0.2033 - val_loss: 2.1070 - val_acc: 0.2272\n",
      "Epoch 2/5\n",
      "7550/7550 [==============================] - 71s - loss: 2.1890 - acc: 0.2033 - val_loss: 2.1099 - val_acc: 0.2529\n",
      "Epoch 3/5\n",
      "7550/7550 [==============================] - 71s - loss: 2.1937 - acc: 0.2019 - val_loss: 2.1269 - val_acc: 0.2187\n",
      "Epoch 4/5\n",
      "7550/7550 [==============================] - 71s - loss: 2.1778 - acc: 0.2017 - val_loss: 2.0867 - val_acc: 0.2578\n",
      "Epoch 5/5\n",
      "7550/7550 [==============================] - 71s - loss: 2.1756 - acc: 0.2021 - val_loss: 2.0944 - val_acc: 0.2407\n",
      "Train on 7550 samples, validate on 1637 samples\n",
      "Epoch 1/5\n",
      "7550/7550 [==============================] - 71s - loss: 2.1837 - acc: 0.2068 - val_loss: 2.1560 - val_acc: 0.1894\n",
      "Epoch 2/5\n",
      "7550/7550 [==============================] - 71s - loss: 2.1813 - acc: 0.2052 - val_loss: 2.1109 - val_acc: 0.2181\n",
      "Epoch 3/5\n",
      "7550/7550 [==============================] - 71s - loss: 2.1702 - acc: 0.2098 - val_loss: 2.0975 - val_acc: 0.2389\n",
      "Epoch 4/5\n",
      "7550/7550 [==============================] - 71s - loss: 2.1701 - acc: 0.2093 - val_loss: 2.1519 - val_acc: 0.1985\n",
      "Epoch 5/5\n",
      "7550/7550 [==============================] - 71s - loss: 2.1873 - acc: 0.2159 - val_loss: 2.1320 - val_acc: 0.1985\n",
      "Train on 7550 samples, validate on 1637 samples\n",
      "Epoch 1/5\n",
      "7550/7550 [==============================] - 71s - loss: 2.1587 - acc: 0.2167 - val_loss: 2.1264 - val_acc: 0.2083\n",
      "Epoch 2/5\n",
      "7550/7550 [==============================] - 71s - loss: 2.1576 - acc: 0.2139 - val_loss: 2.1057 - val_acc: 0.2248\n",
      "Epoch 3/5\n",
      "7550/7550 [==============================] - 71s - loss: 2.1631 - acc: 0.2189 - val_loss: 2.1110 - val_acc: 0.2291\n",
      "Epoch 4/5\n",
      "7550/7550 [==============================] - 71s - loss: 2.1463 - acc: 0.2211 - val_loss: 2.0663 - val_acc: 0.2358\n",
      "Epoch 5/5\n",
      "7550/7550 [==============================] - 73s - loss: 2.1552 - acc: 0.2090 - val_loss: 2.1036 - val_acc: 0.2095\n",
      "Train on 7550 samples, validate on 1637 samples\n",
      "Epoch 1/5\n"
     ]
    },
    {
     "name": "stdout",
     "output_type": "stream",
     "text": [
      "7550/7550 [==============================] - 72s - loss: 2.1544 - acc: 0.2162 - val_loss: 2.0768 - val_acc: 0.2407\n",
      "Epoch 2/5\n",
      "7550/7550 [==============================] - 71s - loss: 2.1456 - acc: 0.2238 - val_loss: 2.0841 - val_acc: 0.2395\n",
      "Epoch 3/5\n",
      "7550/7550 [==============================] - 71s - loss: 2.1394 - acc: 0.2268 - val_loss: 2.1027 - val_acc: 0.2205\n",
      "Epoch 4/5\n",
      "7550/7550 [==============================] - 70s - loss: 2.1377 - acc: 0.2343 - val_loss: 2.0383 - val_acc: 0.2486\n",
      "Epoch 5/5\n",
      "7550/7550 [==============================] - 70s - loss: 2.1414 - acc: 0.2286 - val_loss: 2.1084 - val_acc: 0.2156\n",
      "Train on 7550 samples, validate on 1637 samples\n",
      "Epoch 1/5\n",
      "7550/7550 [==============================] - 70s - loss: 2.1487 - acc: 0.2291 - val_loss: 2.0699 - val_acc: 0.2498\n",
      "Epoch 2/5\n",
      "7550/7550 [==============================] - 70s - loss: 2.1491 - acc: 0.2248 - val_loss: 2.0645 - val_acc: 0.2578\n",
      "Epoch 3/5\n",
      "7550/7550 [==============================] - 71s - loss: 2.1249 - acc: 0.2321 - val_loss: 2.0659 - val_acc: 0.2352\n",
      "Epoch 4/5\n",
      "7550/7550 [==============================] - 72s - loss: 2.1313 - acc: 0.2305 - val_loss: 2.0232 - val_acc: 0.2602\n",
      "Epoch 5/5\n",
      "7550/7550 [==============================] - 70s - loss: 2.1373 - acc: 0.2302 - val_loss: 2.1182 - val_acc: 0.2156\n",
      "Train on 7550 samples, validate on 1637 samples\n",
      "Epoch 1/5\n",
      "7550/7550 [==============================] - 70s - loss: 2.1389 - acc: 0.2246 - val_loss: 2.0918 - val_acc: 0.2279\n",
      "Epoch 2/5\n",
      "7550/7550 [==============================] - 70s - loss: 2.1282 - acc: 0.2325 - val_loss: 2.0913 - val_acc: 0.2321\n",
      "Epoch 3/5\n",
      "7550/7550 [==============================] - 70s - loss: 2.1277 - acc: 0.2285 - val_loss: 2.0747 - val_acc: 0.2285\n",
      "Epoch 4/5\n",
      "7550/7550 [==============================] - 71s - loss: 2.2096 - acc: 0.2066 - val_loss: 2.2651 - val_acc: 0.1741\n",
      "Epoch 5/5\n",
      "7550/7550 [==============================] - 71s - loss: 2.1675 - acc: 0.2219 - val_loss: 2.0626 - val_acc: 0.2462\n",
      "Test loss: 2.062604,  Test accuracy: 0.246182   ,mu  0.300000\n"
     ]
    }
   ],
   "source": [
    "# the actual training is done here\n",
    "keys = range(0,len(book_titles))\n",
    "bins = range(13)\n",
    "    \n",
    "mu = 0.3\n",
    "model.compile(loss='categorical_crossentropy', optimizer=optimizer, metrics=['accuracy'])\n",
    "    #class_weights = create_class_weight(labels_dict,mu)\n",
    "for i in range(15):\n",
    "    # with this split, it's using about half the training samples\n",
    "    indices = sampling_train(y_train,1.2)\n",
    "        \n",
    "    X_sampled = X_train[indices,:]\n",
    "    y_sampled = [y_train[j] for j in indices]\n",
    "        \n",
    "    hist, bin_edges = np.histogram(y_sampled, bins, density=False)\n",
    "        \n",
    "    y_sampled = keras.utils.to_categorical(y_sampled, 12)\n",
    "    #X_sampled = X_sampled.reshape(len(X_sampled), 1, max_len)    \n",
    "       \n",
    "    labels_dict = dict((keys[i],hist[i]) for i in range(len(book_titles)))\n",
    "    class_weights = create_class_weight(labels_dict,mu)\n",
    "        \n",
    "    # class_weight=class_weights,\n",
    "    model.fit(X_sampled, y_sampled, validation_data=(X_val, y_val), batch_size=32, epochs=5, shuffle=True, callbacks=[check_cb, earlystop_cb])\n",
    "score = model.evaluate(X_val, y_val, verbose=0)\n",
    "print(\"Test loss: %f,  Test accuracy: %f   ,mu  %f\" % (score[0],score[1],mu))"
   ]
  },
  {
   "cell_type": "code",
   "execution_count": 30,
   "metadata": {},
   "outputs": [
    {
     "ename": "ValueError",
     "evalue": "Error when checking : expected input_1 to have 2 dimensions, but got array with shape (3000, 1, 189)",
     "output_type": "error",
     "traceback": [
      "\u001b[0;31m---------------------------------------------------------------------------\u001b[0m",
      "\u001b[0;31mValueError\u001b[0m                                Traceback (most recent call last)",
      "\u001b[0;32m<ipython-input-30-72b368c622e5>\u001b[0m in \u001b[0;36m<module>\u001b[0;34m()\u001b[0m\n\u001b[1;32m      2\u001b[0m \u001b[0;31m# use model to predict labels for test sentences\u001b[0m\u001b[0;34m\u001b[0m\u001b[0;34m\u001b[0m\u001b[0m\n\u001b[1;32m      3\u001b[0m \u001b[0mX_test\u001b[0m \u001b[0;34m=\u001b[0m \u001b[0mX_test\u001b[0m\u001b[0;34m.\u001b[0m\u001b[0mreshape\u001b[0m\u001b[0;34m(\u001b[0m\u001b[0mlen\u001b[0m\u001b[0;34m(\u001b[0m\u001b[0mX_test\u001b[0m\u001b[0;34m)\u001b[0m\u001b[0;34m,\u001b[0m \u001b[0;36m1\u001b[0m\u001b[0;34m,\u001b[0m \u001b[0mmax_len\u001b[0m\u001b[0;34m)\u001b[0m\u001b[0;34m\u001b[0m\u001b[0m\n\u001b[0;32m----> 4\u001b[0;31m \u001b[0my_pred\u001b[0m \u001b[0;34m=\u001b[0m \u001b[0mmodel\u001b[0m\u001b[0;34m.\u001b[0m\u001b[0mpredict\u001b[0m\u001b[0;34m(\u001b[0m\u001b[0mX_test\u001b[0m\u001b[0;34m)\u001b[0m\u001b[0;34m\u001b[0m\u001b[0m\n\u001b[0m\u001b[1;32m      5\u001b[0m \u001b[0;31m# convert softmax probabilities to class labels\u001b[0m\u001b[0;34m\u001b[0m\u001b[0;34m\u001b[0m\u001b[0m\n\u001b[1;32m      6\u001b[0m \u001b[0my_label\u001b[0m \u001b[0;34m=\u001b[0m \u001b[0mnp\u001b[0m\u001b[0;34m.\u001b[0m\u001b[0margmax\u001b[0m\u001b[0;34m(\u001b[0m\u001b[0my_pred\u001b[0m\u001b[0;34m,\u001b[0m \u001b[0maxis\u001b[0m\u001b[0;34m=\u001b[0m\u001b[0;36m1\u001b[0m\u001b[0;34m)\u001b[0m\u001b[0;34m\u001b[0m\u001b[0m\n",
      "\u001b[0;32m/usr/local/lib/python2.7/dist-packages/keras/engine/training.pyc\u001b[0m in \u001b[0;36mpredict\u001b[0;34m(self, x, batch_size, verbose)\u001b[0m\n\u001b[1;32m   1574\u001b[0m         x = _standardize_input_data(x, self._feed_input_names,\n\u001b[1;32m   1575\u001b[0m                                     \u001b[0mself\u001b[0m\u001b[0;34m.\u001b[0m\u001b[0m_feed_input_shapes\u001b[0m\u001b[0;34m,\u001b[0m\u001b[0;34m\u001b[0m\u001b[0m\n\u001b[0;32m-> 1576\u001b[0;31m                                     check_batch_axis=False)\n\u001b[0m\u001b[1;32m   1577\u001b[0m         \u001b[0;32mif\u001b[0m \u001b[0mself\u001b[0m\u001b[0;34m.\u001b[0m\u001b[0mstateful\u001b[0m\u001b[0;34m:\u001b[0m\u001b[0;34m\u001b[0m\u001b[0m\n\u001b[1;32m   1578\u001b[0m             \u001b[0;32mif\u001b[0m \u001b[0mx\u001b[0m\u001b[0;34m[\u001b[0m\u001b[0;36m0\u001b[0m\u001b[0;34m]\u001b[0m\u001b[0;34m.\u001b[0m\u001b[0mshape\u001b[0m\u001b[0;34m[\u001b[0m\u001b[0;36m0\u001b[0m\u001b[0;34m]\u001b[0m \u001b[0;34m>\u001b[0m \u001b[0mbatch_size\u001b[0m \u001b[0;32mand\u001b[0m \u001b[0mx\u001b[0m\u001b[0;34m[\u001b[0m\u001b[0;36m0\u001b[0m\u001b[0;34m]\u001b[0m\u001b[0;34m.\u001b[0m\u001b[0mshape\u001b[0m\u001b[0;34m[\u001b[0m\u001b[0;36m0\u001b[0m\u001b[0;34m]\u001b[0m \u001b[0;34m%\u001b[0m \u001b[0mbatch_size\u001b[0m \u001b[0;34m!=\u001b[0m \u001b[0;36m0\u001b[0m\u001b[0;34m:\u001b[0m\u001b[0;34m\u001b[0m\u001b[0m\n",
      "\u001b[0;32m/usr/local/lib/python2.7/dist-packages/keras/engine/training.pyc\u001b[0m in \u001b[0;36m_standardize_input_data\u001b[0;34m(data, names, shapes, check_batch_axis, exception_prefix)\u001b[0m\n\u001b[1;32m    125\u001b[0m                                  \u001b[0;34m' to have '\u001b[0m \u001b[0;34m+\u001b[0m \u001b[0mstr\u001b[0m\u001b[0;34m(\u001b[0m\u001b[0mlen\u001b[0m\u001b[0;34m(\u001b[0m\u001b[0mshapes\u001b[0m\u001b[0;34m[\u001b[0m\u001b[0mi\u001b[0m\u001b[0;34m]\u001b[0m\u001b[0;34m)\u001b[0m\u001b[0;34m)\u001b[0m \u001b[0;34m+\u001b[0m\u001b[0;34m\u001b[0m\u001b[0m\n\u001b[1;32m    126\u001b[0m                                  \u001b[0;34m' dimensions, but got array with shape '\u001b[0m \u001b[0;34m+\u001b[0m\u001b[0;34m\u001b[0m\u001b[0m\n\u001b[0;32m--> 127\u001b[0;31m                                  str(array.shape))\n\u001b[0m\u001b[1;32m    128\u001b[0m             \u001b[0;32mfor\u001b[0m \u001b[0mj\u001b[0m\u001b[0;34m,\u001b[0m \u001b[0;34m(\u001b[0m\u001b[0mdim\u001b[0m\u001b[0;34m,\u001b[0m \u001b[0mref_dim\u001b[0m\u001b[0;34m)\u001b[0m \u001b[0;32min\u001b[0m \u001b[0menumerate\u001b[0m\u001b[0;34m(\u001b[0m\u001b[0mzip\u001b[0m\u001b[0;34m(\u001b[0m\u001b[0marray\u001b[0m\u001b[0;34m.\u001b[0m\u001b[0mshape\u001b[0m\u001b[0;34m,\u001b[0m \u001b[0mshapes\u001b[0m\u001b[0;34m[\u001b[0m\u001b[0mi\u001b[0m\u001b[0;34m]\u001b[0m\u001b[0;34m)\u001b[0m\u001b[0;34m)\u001b[0m\u001b[0;34m:\u001b[0m\u001b[0;34m\u001b[0m\u001b[0m\n\u001b[1;32m    129\u001b[0m                 \u001b[0;32mif\u001b[0m \u001b[0;32mnot\u001b[0m \u001b[0mj\u001b[0m \u001b[0;32mand\u001b[0m \u001b[0;32mnot\u001b[0m \u001b[0mcheck_batch_axis\u001b[0m\u001b[0;34m:\u001b[0m\u001b[0;34m\u001b[0m\u001b[0m\n",
      "\u001b[0;31mValueError\u001b[0m: Error when checking : expected input_1 to have 2 dimensions, but got array with shape (3000, 1, 189)"
     ]
    }
   ],
   "source": [
    "## testing\n",
    "# use model to predict labels for test sentences\n",
    "X_test = X_test.reshape(len(X_test), 1, max_len) \n",
    "y_pred = model.predict(X_test)\n",
    "# convert softmax probabilities to class labels\n",
    "y_label = np.argmax(y_pred, axis=1)"
   ]
  },
  {
   "cell_type": "code",
   "execution_count": null,
   "metadata": {
    "collapsed": true
   },
   "outputs": [],
   "source": [
    "# sanity test for labels\n",
    "hist, bin_edges = np.histogram(y_label, bins, density=False)\n",
    "# shows a nice plot of the histogram of labels\n",
    "plt.title(\"Predicted Label Histogram\")\n",
    "plt.xlabel(\"Label\")\n",
    "plt.ylabel(\"Frequency in percentage\")\n",
    "plt.bar(bin_edges[:-1], hist, width=1)\n",
    "plt.xlim(min(bin_edges), max(bin_edges))\n",
    "plt.show()  \n",
    "\n",
    "# we see that the training did not work, the model can not discriminate between the classes"
   ]
  },
  {
   "cell_type": "code",
   "execution_count": null,
   "metadata": {
    "collapsed": true
   },
   "outputs": [],
   "source": [
    "# write test sentences to txt file\n",
    "np.savetxt(\"ytest.txt\", y_label, fmt=\"%i\")"
   ]
  },
  {
   "cell_type": "code",
   "execution_count": null,
   "metadata": {
    "collapsed": true
   },
   "outputs": [],
   "source": []
  }
 ],
 "metadata": {
  "kernelspec": {
   "display_name": "Python 2",
   "language": "python",
   "name": "python2"
  },
  "language_info": {
   "codemirror_mode": {
    "name": "ipython",
    "version": 2
   },
   "file_extension": ".py",
   "mimetype": "text/x-python",
   "name": "python",
   "nbconvert_exporter": "python",
   "pygments_lexer": "ipython2",
   "version": "2.7.12"
  }
 },
 "nbformat": 4,
 "nbformat_minor": 1
}
