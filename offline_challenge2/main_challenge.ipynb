{
 "cells": [
  {
   "cell_type": "code",
   "execution_count": 1,
   "metadata": {},
   "outputs": [
    {
     "name": "stderr",
     "output_type": "stream",
     "text": [
      "Using TensorFlow backend.\n"
     ]
    }
   ],
   "source": [
    "%matplotlib inline\n",
    "# data preparation imports\n",
    "import matplotlib.pyplot as plt\n",
    "import numpy as np\n",
    "from scipy.stats import normaltest\n",
    "from collections import Counter\n",
    "import re\n",
    "import sklearn as sk\n",
    "import math\n",
    "from sklearn.model_selection import train_test_split\n",
    "from sklearn.model_selection import GridSearchCV\n",
    "\n",
    "# TODO: cleanup imports\n",
    "from keras.models import Model\n",
    "from keras.layers import Dense, Input, Dropout, MaxPooling1D, Conv1D, GlobalMaxPool1D\n",
    "from keras.layers import merge, Lambda, concatenate, BatchNormalization, Reshape\n",
    "from keras.layers import TimeDistributed, LSTM\n",
    "from keras.optimizers import RMSprop\n",
    "import keras.backend as K\n",
    "import tensorflow as tf\n",
    "import keras.callbacks\n",
    "\n",
    "import os\n",
    "import sys\n",
    "stdout = sys.stdout\n",
    "reload(sys)\n",
    "sys.setdefaultencoding('utf-8')\n",
    "sys.stdout = stdout"
   ]
  },
  {
   "cell_type": "code",
   "execution_count": 2,
   "metadata": {
    "collapsed": true
   },
   "outputs": [],
   "source": [
    "# import x for training, the sentences\n",
    "with open('./data/xtrain.txt') as f:\n",
    "    text = f.read()"
   ]
  },
  {
   "cell_type": "code",
   "execution_count": 3,
   "metadata": {
    "collapsed": true
   },
   "outputs": [],
   "source": [
    "# process data to remove empty line\n",
    "xdata = text.split('\\n')\n",
    "xdata = filter(None, xdata)\n",
    "xdata = np.asarray(xdata)"
   ]
  },
  {
   "cell_type": "code",
   "execution_count": 4,
   "metadata": {
    "collapsed": true
   },
   "outputs": [],
   "source": [
    "# import y for training, the ground truth labels\n",
    "with open('./data/ytrain.txt') as f:\n",
    "    labeltext = f.read()"
   ]
  },
  {
   "cell_type": "code",
   "execution_count": 5,
   "metadata": {
    "collapsed": true
   },
   "outputs": [],
   "source": [
    "# preprocess y to remove emtpy string and convert to integers for checks\n",
    "ydata_str = labeltext.split('\\n')\n",
    "ydata_str = filter(None, ydata_str) \n",
    "\n",
    "ydata = [int(numeric_string) for numeric_string in ydata_str]"
   ]
  },
  {
   "cell_type": "code",
   "execution_count": 6,
   "metadata": {},
   "outputs": [
    {
     "name": "stdout",
     "output_type": "stream",
     "text": [
      "Checking if the number of sentences and labels is equal: True\n"
     ]
    }
   ],
   "source": [
    "# verify that both x and y have the same number of entries\n",
    "print \"Checking if the number of sentences and labels is equal:\", len(xdata)==len(ydata)"
   ]
  },
  {
   "cell_type": "code",
   "execution_count": 7,
   "metadata": {
    "collapsed": true
   },
   "outputs": [],
   "source": [
    "# manually load the list of book titles for nicer prints\n",
    "# I fixed a minor spelling error in one of the book titles here\n",
    "book_titles = ['alice_in_wonderland','dracula','dubliners','great_expectations','hard_times','huckleberry_finn',\n",
    "               'les_miserable','moby_dick','oliver_twist','peter_pan','tale_of_two_cities','tom_sawyer']"
   ]
  },
  {
   "cell_type": "code",
   "execution_count": 8,
   "metadata": {
    "collapsed": true
   },
   "outputs": [],
   "source": [
    "## Sanity check for labels\n",
    "# let's take a look at the labels first\n",
    "# it makes sense to take a look at the labels \n",
    "# I like histograms since it's important to check how our labels are distributed \n",
    "bins = range(13)\n",
    "hist, bin_edges = np.histogram(ydata, bins, density=True)"
   ]
  },
  {
   "cell_type": "code",
   "execution_count": 9,
   "metadata": {},
   "outputs": [
    {
     "data": {
      "image/png": "[encoded data removed]",
      "text/plain": [
       "<matplotlib.figure.Figure at 0x7f62ac45f1d0>"
      ]
     },
     "metadata": {},
     "output_type": "display_data"
    }
   ],
   "source": [
    "# shows a nice plot of the histogram of labels\n",
    "plt.title(\"Label Histogram\")\n",
    "plt.xlabel(\"Label\")\n",
    "plt.ylabel(\"Frequency in percentage\")\n",
    "plt.bar(bin_edges[:-1], hist, width=1)\n",
    "plt.xlim(min(bin_edges), max(bin_edges))\n",
    "plt.show()  \n",
    "\n",
    "# we see in this plot that there is actually not an even distribution of labels"
   ]
  },
  {
   "cell_type": "code",
   "execution_count": 10,
   "metadata": {},
   "outputs": [
    {
     "name": "stdout",
     "output_type": "stream",
     "text": [
      "The book alice_in_wonderland, with index 0, has the lowest number of samples, 1.704754 percent.\n",
      "The book moby_dick, with index 7, has the highest number of samples, 15.614689 percent.\n",
      "That means that we have about 9 times more samples from moby_dick than from alice_in_wonderland.\n"
     ]
    }
   ],
   "source": [
    "# print a few interesting numbers about the histogram\n",
    "print (\"The book %s, with index %i, has the lowest number of samples, %f percent.\"\n",
    "%(book_titles[np.argmin(hist)],np.argmin(hist),min(hist)*100) )\n",
    "print (\"The book %s, with index %i, has the highest number of samples, %f percent.\"\n",
    "%(book_titles[np.argmax(hist)],np.argmax(hist),max(hist)*100) )\n",
    "\n",
    "print (\"That means that we have about %i times more samples from %s than from %s.\"\n",
    "%(max(hist)/min(hist),book_titles[np.argmax(hist)],book_titles[np.argmin(hist)]) )"
   ]
  },
  {
   "cell_type": "code",
   "execution_count": 11,
   "metadata": {},
   "outputs": [],
   "source": [
    "# I've done a few training test runs and realized that the number of labels is screwed so badly that the prediction\n",
    "# didn't work well. For example I obtained this histogram of predicted labels for the test data:\n",
    "# [   0  252    0   72    0    0 2063  434  179    0    0    0] \n",
    "# so some classes were not predicted at all, while only the most common 5 classes were predicted\n",
    "# labels_dict : {ind_label: count_label}\n",
    "\n",
    "def create_class_weight(labels_dict,mu=0.15):\n",
    "    total = np.sum(labels_dict.values())\n",
    "    keys = labels_dict.keys()\n",
    "    class_weight = dict()\n",
    "\n",
    "    for key in keys:\n",
    "        score = math.log(mu*total/float(labels_dict[key]))\n",
    "        class_weight[key] = score if score > 1.0 else 1.0\n",
    "\n",
    "    return class_weight"
   ]
  },
  {
   "cell_type": "code",
   "execution_count": 12,
   "metadata": {
    "collapsed": true
   },
   "outputs": [],
   "source": [
    "## Clean up sentences\n",
    "# Some early experiments showed that there were some non-ascii characters in the sentence data\n",
    "# I've decided to remove these\n",
    "uni_x = [sen.encode('ascii', 'ignore') for sen in xdata]"
   ]
  },
  {
   "cell_type": "code",
   "execution_count": 13,
   "metadata": {},
   "outputs": [
    {
     "name": "stdout",
     "output_type": "stream",
     "text": [
      "The longest sentence in the training data has 189 symbols, while the shortest has 54 symbols.\n",
      "The average sentence length is 167.874404 and the standard deviation is 8.061963.\n"
     ]
    }
   ],
   "source": [
    "## Sanity check for sentences x\n",
    "x_len = [len(sen) for sen in uni_x]\n",
    "min_len = min(x_len)\n",
    "max_len = max(x_len)\n",
    "print \"The longest sentence in the training data has %i symbols, while the shortest has %i symbols.\"%(max_len,min_len)\n",
    "print(\"The average sentence length is %f and the standard deviation is %f.\"% (np.mean(x_len),np.std(x_len)))\n",
    "\n",
    "# so the length of the sentences varies but not that much, especially the very short sentences seem to be outliers"
   ]
  },
  {
   "cell_type": "code",
   "execution_count": 14,
   "metadata": {},
   "outputs": [
    {
     "name": "stdout",
     "output_type": "stream",
     "text": [
      "[   1    0    0    0    0    1    0    0    0    0    0    0    0    0    0\n",
      "    0    0    0    0    0    0    0    0    0    0    1    2    1    0    0\n",
      "    0    0    0    0    0    0    1    0    0    0    1    0    1    0    0\n",
      "    0    0    0    0    0    0    0    1    0    1    1    0    0    0    0\n",
      "    2    5    0    1    4    3    3    1    2    4    2    4    5    6    6\n",
      "   11   10    6   13   19   18   15   33   23   18   38   43   40   49   64\n",
      "   58   76   90   92  143  144  158  194  196  260  280  313  346  410  430\n",
      "  480  577  645  791  914 1083 1259 1476 1760 1893 2122 2245 2245 2212 2029\n",
      " 1783 1584 1239  904  688  469  286  196   80   59   29   19    8    6]\n"
     ]
    },
    {
     "data": {
      "image/png": "[encoded data removed]",
      "text/plain": [
       "<matplotlib.figure.Figure at 0x7f6241853cd0>"
      ]
     },
     "metadata": {},
     "output_type": "display_data"
    }
   ],
   "source": [
    "bins = range(min_len,max_len,1)\n",
    "hist, bin_edges = np.histogram(x_len,bins,density=False )\n",
    "print hist\n",
    "\n",
    "# shows a nice plot of the histogram of sentence lengths\n",
    "plt.title(\"Sentence length Histogram\")\n",
    "plt.xlabel(\"Sequence length\")\n",
    "plt.ylabel(\"Frequency absolute numbers\")\n",
    "plt.bar(bin_edges[:-1], hist, width = 1)\n",
    "plt.xlim(min(bin_edges), max(bin_edges))\n",
    "plt.show()  \n",
    "\n",
    "# we see in this plot that the sentence length appears to be normally distributed"
   ]
  },
  {
   "cell_type": "code",
   "execution_count": 15,
   "metadata": {},
   "outputs": [
    {
     "name": "stdout",
     "output_type": "stream",
     "text": [
      "statistical test for: p value for normality = 0.000000 .\n"
     ]
    }
   ],
   "source": [
    "print(\"statistical test for: p value for normality = %f .\"%(normaltest(x_len)[1]) )\n",
    "\n",
    "# theory that the data was picked with normally distributed sentence length can't be rejected"
   ]
  },
  {
   "cell_type": "code",
   "execution_count": 16,
   "metadata": {
    "collapsed": true
   },
   "outputs": [],
   "source": [
    "def histogram_letters(L):\n",
    "    d = Counter(letter for line in L for letter in line)\n",
    "    for letter in d:\n",
    "        print('{} | {}'.format(letter, d[letter]))\n",
    "    return d"
   ]
  },
  {
   "cell_type": "code",
   "execution_count": 17,
   "metadata": {},
   "outputs": [
    {
     "name": "stdout",
     "output_type": "stream",
     "text": [
      "! | 6720\n",
      "# | 3\n",
      "\" | 4520\n",
      "$ | 3\n",
      "' | 10332\n",
      "& | 15\n",
      ") | 804\n",
      "( | 833\n",
      "* | 48\n",
      "- | 19931\n",
      ", | 108481\n",
      "/ | 3\n",
      ". | 50053\n",
      "1 | 364\n",
      "0 | 223\n",
      "3 | 113\n",
      "2 | 159\n",
      "5 | 123\n",
      "4 | 73\n",
      "7 | 96\n",
      "6 | 48\n",
      "9 | 64\n",
      "8 | 159\n",
      "; | 15494\n",
      ": | 2440\n",
      "= | 11\n",
      "< | 6\n",
      "? | 4670\n",
      "> | 6\n",
      "[ | 116\n",
      "] | 103\n",
      "_ | 3365\n",
      "a | 428514\n",
      "c | 118709\n",
      "b | 83080\n",
      "e | 651182\n",
      "d | 242642\n",
      "g | 112092\n",
      "f | 112291\n",
      "i | 357560\n",
      "h | 353582\n",
      "k | 46716\n",
      "j | 8225\n",
      "m | 135069\n",
      "l | 211696\n",
      "o | 402570\n",
      "n | 364930\n",
      "q | 5371\n",
      "p | 85532\n",
      "s | 327557\n",
      "r | 293094\n",
      "u | 147819\n",
      "t | 484089\n",
      "w | 134334\n",
      "v | 46785\n",
      "y | 103313\n",
      "x | 6212\n",
      "{ | 4\n",
      "z | 2515\n",
      "} | 3\n"
     ]
    }
   ],
   "source": [
    "## histogram of the letters\n",
    "l_hist = histogram_letters(uni_x)"
   ]
  },
  {
   "cell_type": "code",
   "execution_count": 18,
   "metadata": {},
   "outputs": [
    {
     "name": "stdout",
     "output_type": "stream",
     "text": [
      "For embedding the sentences, we will use an alphabet with 46 letters with at least 100 occurences in the training set.\n"
     ]
    }
   ],
   "source": [
    "## analysis\n",
    "# 'e', 't' and 'a' are most common letters, which was expectable for a dataset using English language text\n",
    "# I've decided to include punctuation in my model since it could give interesting clues about the novel (or author)\n",
    "# however I've also decided to ignore some rare symbols - less than 100 occurences\n",
    "# the alphabet to consider doesn't include these symbols\n",
    "alphabet = []\n",
    "\n",
    "for letter in l_hist:\n",
    "    if l_hist[letter]>=100:\n",
    "        alphabet = np.append(alphabet, letter)\n",
    "\n",
    "print(\"For embedding the sentences, we will use an alphabet with %i letters with at least 100 occurences in the training set.\"\n",
    "%len(alphabet))"
   ]
  },
  {
   "cell_type": "code",
   "execution_count": 19,
   "metadata": {},
   "outputs": [
    {
     "name": "stdout",
     "output_type": "stream",
     "text": [
      "{'!': 1, '\"': 2, \"'\": 3, ')': 4, '(': 5, '-': 6, ',': 7, '.': 8, '1': 9, '0': 10, '3': 11, '2': 12, '5': 13, '8': 14, ';': 15, ':': 16, '?': 17, '[': 18, ']': 19, '_': 20, 'a': 21, 'c': 22, 'b': 23, 'e': 24, 'd': 25, 'g': 26, 'f': 27, 'i': 28, 'h': 29, 'k': 30, 'j': 31, 'm': 32, 'l': 33, 'o': 34, 'n': 35, 'q': 36, 'p': 37, 's': 38, 'r': 39, 'u': 40, 't': 41, 'w': 42, 'v': 43, 'y': 44, 'x': 45, 'z': 46}\n"
     ]
    }
   ],
   "source": [
    "enumeration = dict(enumerate(alphabet,1))\n",
    "alphabet_dict = dict (zip(enumeration.values(),enumeration.keys()))\n",
    "\n",
    "print alphabet_dict\n",
    "            \n",
    "X = np.ones((len(uni_x), max_len), dtype=np.int64) *-1\n",
    "\n",
    "for i, sentence in enumerate(uni_x):\n",
    "    for j, char in enumerate(sentence):\n",
    "        if char in alphabet:\n",
    "            X[i,j] = alphabet_dict[char]\n",
    "            \n",
    "# Note: this code leaves rare symbols as -1, which is also used for padding the sentences"
   ]
  },
  {
   "cell_type": "code",
   "execution_count": 20,
   "metadata": {},
   "outputs": [
    {
     "name": "stdout",
     "output_type": "stream",
     "text": [
      "The longest sentence in the test data has 185 symbols, while the shortest has 87 symbols.\n",
      "The average sentence length is 168.027000 and the standard deviation is 8.201480.\n"
     ]
    }
   ],
   "source": [
    "## loading and preparing of test data \n",
    "with open('./data/xtest.txt') as f:\n",
    "    text = f.read()\n",
    "    \n",
    "test_data = text.split('\\n')\n",
    "test_data = filter(None, test_data)\n",
    "test_data = np.asarray(test_data)\n",
    "uni_test = [sen.encode('ascii', 'ignore') for sen in test_data]\n",
    "\n",
    "test_len = [len(sen) for sen in uni_test]\n",
    "min_len = min(test_len)\n",
    "max_len_test = max(test_len)\n",
    "print \"The longest sentence in the test data has %i symbols, while the shortest has %i symbols.\"%(max_len_test,min_len)\n",
    "print(\"The average sentence length is %f and the standard deviation is %f.\"% (np.mean(test_len),np.std(test_len)))\n",
    "\n",
    "# I'm using the same alphabet as extracted from the training data and the maximum length of the training sentences\n",
    "X_test = np.ones((len(uni_test), np.shape(X)[1]), dtype=np.int64) *-1\n",
    "\n",
    "# we cut the sentences of the test set off since we use the maximum length of the training sentences\n",
    "for i, sentence in enumerate(uni_test):\n",
    "    for j, char in enumerate(sentence):\n",
    "        if char in alphabet and j < len(uni_x):\n",
    "            X_test[i,j] = alphabet_dict[char]\n",
    "            \n"
   ]
  },
  {
   "cell_type": "code",
   "execution_count": 21,
   "metadata": {
    "collapsed": true
   },
   "outputs": [],
   "source": [
    "## one-hot encoding\n",
    "# we have to embedd our characters so that we can use them as numerical vectors\n",
    "\n",
    "# technically also other embeddings are available such as char2vec but since of the time constraint, I decided to use one-hot\n",
    "# I think a better embedding could lead to a significantly better model\n",
    "\n",
    "# a depth of 6 should be enough since there are 46 characters in this challenge and 2^6 is 64\n",
    "p_depth = 6\n",
    "\n",
    "# defining this function to call it on the fly\n",
    "def transform_one_hot(x, p_depth=6):\n",
    "    return tf.to_float(tf.one_hot(x, p_depth, on_value=1, off_value=0, axis=-1))\n",
    "\n",
    "def one_hot_outshape(in_shape):\n",
    "    return in_shape[0], in_shape[1], p_depth"
   ]
  },
  {
   "cell_type": "code",
   "execution_count": 22,
   "metadata": {
    "collapsed": true
   },
   "outputs": [],
   "source": [
    "## data split for validation\n",
    "\n",
    "# split into training and validation from train.txt\n",
    "X_train, X_val, y_train, y_val = train_test_split(X, ydata, test_size=0.05, random_state=0)\n",
    "# since our dataset is already pretty small, we can only afford to have a very small validation set\n",
    "\n",
    "# X_test is kept intact for predictions"
   ]
  },
  {
   "cell_type": "code",
   "execution_count": 23,
   "metadata": {},
   "outputs": [],
   "source": [
    "## resampling\n",
    "# the bias in our data was so big that I decided to resample the training data\n",
    "# this function outputs a binary index vector which samples should be kept for training\n",
    "\n",
    "# sampling ratio can be technically any number but should be greater or equal to 1\n",
    "def sampling_train(y_tr, sampling_ratio=1.0):\n",
    "    bins = range(13)\n",
    "    hist, bin_edges = np.histogram(y_tr, bins, density=False)\n",
    "    # how many samples to take per class - relative to smallest class\n",
    "    n_samples = int(np.min(hist) * sampling_ratio)\n",
    "    \n",
    "    for label in range(len(book_titles)):\n",
    "        idx = np.where(np.equal(y_tr,label))\n",
    "        idx = idx[0]\n",
    "        #shuffle labels\n",
    "        np.random.shuffle(idx)\n",
    "        if n_samples < hist[label]:\n",
    "            idx = idx[:n_samples]\n",
    "        if label == 0:\n",
    "            indices = idx\n",
    "        else:\n",
    "            indices = np.concatenate((indices,idx),axis=0)\n",
    "    np.random.shuffle(indices)\n",
    "    return indices\n"
   ]
  },
  {
   "cell_type": "code",
   "execution_count": 24,
   "metadata": {
    "collapsed": true
   },
   "outputs": [],
   "source": [
    "## model design\n",
    "# I'm aware that at this point the standard model for such a task would be a character-level LSTM (RNN)\n",
    "# However, I've been working on CNN for the past 2 years and have more experience with their design. \n",
    "# A quick literature search confirmed that they can be used for this kind of task\n",
    "# [1]\"Convolutional Neural Networks for Sentence Classification\" (2014, https://arxiv.org/pdf/1408.5882.pdf)\n",
    "# [2]\"A Sensitivity Analysis of (and Practitioners’ Guide to) Convolutional Neural Networks for Sentence Classification\" \n",
    "# (2016, https://arxiv.org/pdf/1510.03820.pdf)"
   ]
  },
  {
   "cell_type": "code",
   "execution_count": 25,
   "metadata": {
    "collapsed": true
   },
   "outputs": [],
   "source": [
    "## (hyper-)parameters\n",
    "# definition of hyperparameters relevant to this task\n",
    "\n",
    "# dropout rate for regularization\n",
    "p_dropout = 0.1\n",
    "# feature map size\n",
    "# adjusted these values by line search as suggested in paper [2]\n",
    "p_filter_nb1 = [200, 200, 200, 200]\n",
    "p_filter_nb2 = [200, 300, 300, 300]\n",
    "p_filter_nb3 = [300, 400, 400, 400]\n",
    "# filter size\n",
    "# adjusted these values by line search as suggested in paper [2]\n",
    "p_filter_len1 = [5, 3, 3, 3]\n",
    "p_filter_len2 = [11, 5, 3, 3]\n",
    "p_filter_len3 = [19, 7, 3, 3]\n",
    "\n",
    "# Load checkpoint if exists\n",
    "checkpoint = False\n",
    "# check if grid search is wanted\n",
    "grid_search = False"
   ]
  },
  {
   "cell_type": "code",
   "execution_count": 26,
   "metadata": {
    "collapsed": true
   },
   "outputs": [],
   "source": [
    "## Defining some necessary functions\n",
    "# 1d max pooling as recommended in [2]\n",
    "def max_1d(X):\n",
    "    return K.max(X, axis=1)\n",
    "\n",
    "# defining a block\n",
    "def conv_block(in_layer, nb_filter=[100, 100, 100], filter_length=[3, 3, 3], subsample=[1, 1, 1], pool_length=[2, 2, 2]):\n",
    "    block = in_layer\n",
    "    for i in range(len(nb_filter)):\n",
    "\n",
    "        block = Conv1D(nb_filter=nb_filter[i],\n",
    "                              filter_length=filter_length[i],\n",
    "                              border_mode='valid',\n",
    "                              activation='relu',\n",
    "                              kernel_initializer='glorot_normal',\n",
    "                              subsample_length=subsample[i])(block)\n",
    "        # TODO: dropout or backnorm (experiment!)\n",
    "        block = BatchNormalization()(block)\n",
    "        block = Dropout(p_dropout)(block)\n",
    "        if pool_length[i]:\n",
    "            block = MaxPooling1D(pool_length=pool_length[i])(block)\n",
    "\n",
    "    block = Lambda(max_1d, output_shape=(nb_filter[-1],))(block)\n",
    "    block = Dense(128, activation='relu', kernel_initializer='glorot_normal')(block)\n",
    "    block = Dense(128, activation='relu', kernel_initializer='glorot_normal')(block)\n",
    "    return block"
   ]
  },
  {
   "cell_type": "code",
   "execution_count": 27,
   "metadata": {},
   "outputs": [
    {
     "name": "stdout",
     "output_type": "stream",
     "text": [
      "____________________________________________________________________________________________________\n",
      "Layer (type)                     Output Shape          Param #     Connected to                     \n",
      "====================================================================================================\n",
      "input_1 (InputLayer)             (None, 189)           0                                            \n",
      "____________________________________________________________________________________________________\n",
      "lambda_1 (Lambda)                (None, 189, 6)        0           input_1[0][0]                    \n",
      "____________________________________________________________________________________________________\n",
      "conv1d_1 (Conv1D)                (None, 185, 200)      6200        lambda_1[0][0]                   \n",
      "____________________________________________________________________________________________________\n",
      "conv1d_5 (Conv1D)                (None, 179, 200)      13400       lambda_1[0][0]                   \n",
      "____________________________________________________________________________________________________\n",
      "conv1d_9 (Conv1D)                (None, 171, 300)      34500       lambda_1[0][0]                   \n",
      "____________________________________________________________________________________________________\n",
      "batch_normalization_1 (BatchNorm (None, 185, 200)      800         conv1d_1[0][0]                   \n",
      "____________________________________________________________________________________________________\n",
      "batch_normalization_5 (BatchNorm (None, 179, 200)      800         conv1d_5[0][0]                   \n",
      "____________________________________________________________________________________________________\n",
      "batch_normalization_9 (BatchNorm (None, 171, 300)      1200        conv1d_9[0][0]                   \n",
      "____________________________________________________________________________________________________\n",
      "dropout_1 (Dropout)              (None, 185, 200)      0           batch_normalization_1[0][0]      \n",
      "____________________________________________________________________________________________________\n",
      "dropout_5 (Dropout)              (None, 179, 200)      0           batch_normalization_5[0][0]      \n",
      "____________________________________________________________________________________________________\n",
      "dropout_9 (Dropout)              (None, 171, 300)      0           batch_normalization_9[0][0]      \n",
      "____________________________________________________________________________________________________\n",
      "max_pooling1d_1 (MaxPooling1D)   (None, 92, 200)       0           dropout_1[0][0]                  \n",
      "____________________________________________________________________________________________________\n",
      "max_pooling1d_5 (MaxPooling1D)   (None, 89, 200)       0           dropout_5[0][0]                  \n",
      "____________________________________________________________________________________________________\n",
      "max_pooling1d_9 (MaxPooling1D)   (None, 85, 300)       0           dropout_9[0][0]                  \n",
      "____________________________________________________________________________________________________\n",
      "conv1d_2 (Conv1D)                (None, 90, 200)       120200      max_pooling1d_1[0][0]            \n",
      "____________________________________________________________________________________________________\n",
      "conv1d_6 (Conv1D)                (None, 85, 300)       300300      max_pooling1d_5[0][0]            \n",
      "____________________________________________________________________________________________________\n",
      "conv1d_10 (Conv1D)               (None, 79, 400)       840400      max_pooling1d_9[0][0]            \n",
      "____________________________________________________________________________________________________\n",
      "batch_normalization_2 (BatchNorm (None, 90, 200)       800         conv1d_2[0][0]                   \n",
      "____________________________________________________________________________________________________\n",
      "batch_normalization_6 (BatchNorm (None, 85, 300)       1200        conv1d_6[0][0]                   \n",
      "____________________________________________________________________________________________________\n",
      "batch_normalization_10 (BatchNor (None, 79, 400)       1600        conv1d_10[0][0]                  \n",
      "____________________________________________________________________________________________________\n",
      "dropout_2 (Dropout)              (None, 90, 200)       0           batch_normalization_2[0][0]      \n",
      "____________________________________________________________________________________________________\n",
      "dropout_6 (Dropout)              (None, 85, 300)       0           batch_normalization_6[0][0]      \n",
      "____________________________________________________________________________________________________\n",
      "dropout_10 (Dropout)             (None, 79, 400)       0           batch_normalization_10[0][0]     \n",
      "____________________________________________________________________________________________________\n",
      "max_pooling1d_2 (MaxPooling1D)   (None, 45, 200)       0           dropout_2[0][0]                  \n",
      "____________________________________________________________________________________________________\n",
      "max_pooling1d_6 (MaxPooling1D)   (None, 42, 300)       0           dropout_6[0][0]                  \n",
      "____________________________________________________________________________________________________\n",
      "max_pooling1d_10 (MaxPooling1D)  (None, 39, 400)       0           dropout_10[0][0]                 \n",
      "____________________________________________________________________________________________________\n",
      "conv1d_3 (Conv1D)                (None, 43, 200)       120200      max_pooling1d_2[0][0]            \n",
      "____________________________________________________________________________________________________\n",
      "conv1d_7 (Conv1D)                (None, 40, 300)       270300      max_pooling1d_6[0][0]            \n",
      "____________________________________________________________________________________________________\n",
      "conv1d_11 (Conv1D)               (None, 37, 400)       480400      max_pooling1d_10[0][0]           \n",
      "____________________________________________________________________________________________________\n",
      "batch_normalization_3 (BatchNorm (None, 43, 200)       800         conv1d_3[0][0]                   \n",
      "____________________________________________________________________________________________________\n",
      "batch_normalization_7 (BatchNorm (None, 40, 300)       1200        conv1d_7[0][0]                   \n",
      "____________________________________________________________________________________________________\n",
      "batch_normalization_11 (BatchNor (None, 37, 400)       1600        conv1d_11[0][0]                  \n",
      "____________________________________________________________________________________________________\n",
      "dropout_3 (Dropout)              (None, 43, 200)       0           batch_normalization_3[0][0]      \n",
      "____________________________________________________________________________________________________\n",
      "dropout_7 (Dropout)              (None, 40, 300)       0           batch_normalization_7[0][0]      \n",
      "____________________________________________________________________________________________________\n",
      "dropout_11 (Dropout)             (None, 37, 400)       0           batch_normalization_11[0][0]     \n",
      "____________________________________________________________________________________________________\n",
      "max_pooling1d_3 (MaxPooling1D)   (None, 21, 200)       0           dropout_3[0][0]                  \n",
      "____________________________________________________________________________________________________\n",
      "max_pooling1d_7 (MaxPooling1D)   (None, 20, 300)       0           dropout_7[0][0]                  \n",
      "____________________________________________________________________________________________________\n",
      "max_pooling1d_11 (MaxPooling1D)  (None, 18, 400)       0           dropout_11[0][0]                 \n",
      "____________________________________________________________________________________________________\n",
      "conv1d_4 (Conv1D)                (None, 19, 200)       120200      max_pooling1d_3[0][0]            \n",
      "____________________________________________________________________________________________________\n",
      "conv1d_8 (Conv1D)                (None, 18, 300)       270300      max_pooling1d_7[0][0]            \n",
      "____________________________________________________________________________________________________\n",
      "conv1d_12 (Conv1D)               (None, 16, 400)       480400      max_pooling1d_11[0][0]           \n",
      "____________________________________________________________________________________________________\n",
      "batch_normalization_4 (BatchNorm (None, 19, 200)       800         conv1d_4[0][0]                   \n",
      "____________________________________________________________________________________________________\n",
      "batch_normalization_8 (BatchNorm (None, 18, 300)       1200        conv1d_8[0][0]                   \n",
      "____________________________________________________________________________________________________\n",
      "batch_normalization_12 (BatchNor (None, 16, 400)       1600        conv1d_12[0][0]                  \n",
      "____________________________________________________________________________________________________\n",
      "dropout_4 (Dropout)              (None, 19, 200)       0           batch_normalization_4[0][0]      \n",
      "____________________________________________________________________________________________________\n",
      "dropout_8 (Dropout)              (None, 18, 300)       0           batch_normalization_8[0][0]      \n",
      "____________________________________________________________________________________________________\n",
      "dropout_12 (Dropout)             (None, 16, 400)       0           batch_normalization_12[0][0]     \n",
      "____________________________________________________________________________________________________\n",
      "max_pooling1d_4 (MaxPooling1D)   (None, 9, 200)        0           dropout_4[0][0]                  \n",
      "____________________________________________________________________________________________________\n",
      "max_pooling1d_8 (MaxPooling1D)   (None, 9, 300)        0           dropout_8[0][0]                  \n",
      "____________________________________________________________________________________________________\n",
      "max_pooling1d_12 (MaxPooling1D)  (None, 8, 400)        0           dropout_12[0][0]                 \n",
      "____________________________________________________________________________________________________\n",
      "lambda_2 (Lambda)                (None, 200)           0           max_pooling1d_4[0][0]            \n",
      "____________________________________________________________________________________________________\n",
      "lambda_3 (Lambda)                (None, 300)           0           max_pooling1d_8[0][0]            \n",
      "____________________________________________________________________________________________________\n",
      "lambda_4 (Lambda)                (None, 400)           0           max_pooling1d_12[0][0]           \n",
      "____________________________________________________________________________________________________\n",
      "dense_1 (Dense)                  (None, 128)           25728       lambda_2[0][0]                   \n",
      "____________________________________________________________________________________________________\n",
      "dense_3 (Dense)                  (None, 128)           38528       lambda_3[0][0]                   \n",
      "____________________________________________________________________________________________________\n",
      "dense_5 (Dense)                  (None, 128)           51328       lambda_4[0][0]                   \n",
      "____________________________________________________________________________________________________\n",
      "dense_2 (Dense)                  (None, 128)           16512       dense_1[0][0]                    \n",
      "____________________________________________________________________________________________________\n",
      "dense_4 (Dense)                  (None, 128)           16512       dense_3[0][0]                    \n",
      "____________________________________________________________________________________________________\n",
      "dense_6 (Dense)                  (None, 128)           16512       dense_5[0][0]                    \n",
      "____________________________________________________________________________________________________\n",
      "merge_1 (Merge)                  (None, 384)           0           dense_2[0][0]                    \n",
      "                                                                   dense_4[0][0]                    \n",
      "                                                                   dense_6[0][0]                    \n",
      "____________________________________________________________________________________________________\n",
      "dropout_13 (Dropout)             (None, 384)           0           merge_1[0][0]                    \n",
      "____________________________________________________________________________________________________\n",
      "dense_7 (Dense)                  (None, 256)           98560       dropout_13[0][0]                 \n",
      "____________________________________________________________________________________________________\n",
      "dense_8 (Dense)                  (None, 128)           32896       dense_7[0][0]                    \n",
      "____________________________________________________________________________________________________\n",
      "dropout_14 (Dropout)             (None, 128)           0           dense_8[0][0]                    \n",
      "====================================================================================================\n",
      "Total params: 3,366,976\n",
      "Trainable params: 3,360,176\n",
      "Non-trainable params: 6,800\n",
      "____________________________________________________________________________________________________\n"
     ]
    }
   ],
   "source": [
    "## The main model in keras\n",
    "# insert the input sentence and embedd to one-hot space on-the-fly\n",
    "in_sentence = Input(shape=(max_len,), dtype='int64')\n",
    "embedded = Lambda(transform_one_hot, output_shape=one_hot_outshape)(in_sentence)\n",
    "\n",
    "# convolve with three blocks\n",
    "block1 = conv_block(embedded, p_filter_nb1, filter_length=p_filter_len1, subsample=[1, 1, 1, 1], pool_length=[2, 2, 2, 2])\n",
    "block2 = conv_block(embedded, p_filter_nb2, filter_length=p_filter_len2, subsample=[1, 1, 1, 1], pool_length=[2, 2, 2, 2])\n",
    "block3 = conv_block(embedded, p_filter_nb3, filter_length=p_filter_len3, subsample=[1, 1, 1, 1], pool_length=[2, 2, 2, 2])\n",
    "\n",
    "# merge blocks to one\n",
    "feature_vec = merge([block1,block2, block3], mode='concat', concat_axis=-1)\n",
    "\n",
    "# added fully connected layer\n",
    "feature_vec = Dropout(p_dropout)(feature_vec)\n",
    "feature_vec = Dense(256, activation='relu', kernel_initializer='glorot_normal')(feature_vec)\n",
    "feature_vec = Dense(128, activation='relu', kernel_initializer='glorot_normal')(feature_vec)\n",
    "\n",
    "# send feature vector to encoder\n",
    "to_encode = Dropout(p_dropout)(feature_vec)\n",
    "encoder = Model(input=in_sentence, output=to_encode)\n",
    "    \n",
    "encoder.summary()   \n",
    "\n",
    "    \n"
   ]
  },
  {
   "cell_type": "code",
   "execution_count": 28,
   "metadata": {},
   "outputs": [
    {
     "name": "stdout",
     "output_type": "stream",
     "text": [
      "_________________________________________________________________\n",
      "Layer (type)                 Output Shape              Param #   \n",
      "=================================================================\n",
      "input_2 (InputLayer)         (None, 1, 189)            0         \n",
      "_________________________________________________________________\n",
      "time_distributed_1 (TimeDist (None, 1, 128)            3366976   \n",
      "_________________________________________________________________\n",
      "lstm_1 (LSTM)                (None, 1, 92)             81328     \n",
      "_________________________________________________________________\n",
      "lstm_2 (LSTM)                (None, 92)                68080     \n",
      "_________________________________________________________________\n",
      "dense_9 (Dense)              (None, 12)                1116      \n",
      "=================================================================\n",
      "Total params: 3,517,500\n",
      "Trainable params: 3,510,700\n",
      "Non-trainable params: 6,800\n",
      "_________________________________________________________________\n"
     ]
    }
   ],
   "source": [
    "## LSTM classifier\n",
    "\n",
    "book_sentences = Input(shape=(1,max_len), dtype='int64')\n",
    "encoded = TimeDistributed(encoder)(book_sentences)\n",
    "\n",
    "lstm_h = 92\n",
    "\n",
    "lstm_layer = LSTM(lstm_h, return_sequences=True, dropout=0.1, recurrent_dropout=0.1, implementation=0)(encoded)\n",
    "lstm_layer2 = LSTM(lstm_h, return_sequences=False, dropout=0.1, recurrent_dropout=0.1, implementation=0)(lstm_layer)\n",
    "\n",
    "# output = Dropout(0.2)(bi_lstm)\n",
    "output = Dense(12, activation='softmax', kernel_initializer='lecun_uniform')(lstm_layer2)\n",
    "\n",
    "model = Model(outputs=output, inputs=book_sentences)\n",
    "model.summary()"
   ]
  },
  {
   "cell_type": "code",
   "execution_count": 29,
   "metadata": {},
   "outputs": [],
   "source": [
    "if checkpoint:\n",
    "    model.load_weights(checkpoint_dir)\n",
    "\n",
    "file_name = 'char-level-cnn'\n",
    "check_cb = keras.callbacks.ModelCheckpoint('checkpoints/' + file_name + '.{epoch:02d}-{val_loss:.2f}.hdf5',\n",
    "                                            monitor='val_loss',\n",
    "                                            verbose=0, save_best_only=True, mode='min')\n",
    "\n",
    "earlystop_cb = keras.callbacks.EarlyStopping(monitor='val_loss', patience=5, verbose=0, mode='auto')\n",
    "\n",
    "# TODO: set learning rate decay\n",
    "optimizer = RMSprop(lr=0.001, decay=0.0001)\n",
    "# using loss for multiclass problem\n",
    "# combination of categorical_crossentropy and softmax good for multiclass label problem"
   ]
  },
  {
   "cell_type": "code",
   "execution_count": 30,
   "metadata": {
    "collapsed": true
   },
   "outputs": [],
   "source": [
    "# following the keras documentation, I've realized that the labels have to be formatted this way in order to use\n",
    "# the categorical cross entropy loss\n",
    "\n",
    "y_val = keras.utils.to_categorical(y_val, 12)\n",
    "X_val = X_val.reshape(len(X_val), 1, max_len) "
   ]
  },
  {
   "cell_type": "code",
   "execution_count": null,
   "metadata": {},
   "outputs": [
    {
     "name": "stdout",
     "output_type": "stream",
     "text": [
      "Train on 17002 samples, validate on 1637 samples\n",
      "Epoch 1/5\n",
      "17002/17002 [==============================] - 44s - loss: 2.8289 - acc: 0.1685 - val_loss: 2.6635 - val_acc: 0.0159\n",
      "Epoch 2/5\n",
      "17002/17002 [==============================] - 42s - loss: 2.8170 - acc: 0.1700 - val_loss: 2.5615 - val_acc: 0.1100\n",
      "Epoch 3/5\n",
      "17002/17002 [==============================] - 43s - loss: 2.8113 - acc: 0.1713 - val_loss: 2.8370 - val_acc: 0.1100\n",
      "Epoch 4/5\n",
      "17002/17002 [==============================] - 43s - loss: 2.8089 - acc: 0.1702 - val_loss: 2.6818 - val_acc: 0.0593\n",
      "Epoch 5/5\n",
      "17002/17002 [==============================] - 43s - loss: 2.8190 - acc: 0.1659 - val_loss: 3.3885 - val_acc: 0.1100\n",
      "Train on 17002 samples, validate on 1637 samples\n",
      "Epoch 1/5\n",
      "17002/17002 [==============================] - 43s - loss: 2.8151 - acc: 0.1705 - val_loss: 3.5514 - val_acc: 0.1100\n",
      "Epoch 2/5\n",
      "17002/17002 [==============================] - 43s - loss: 2.8252 - acc: 0.1696 - val_loss: 2.5556 - val_acc: 0.1100\n",
      "Epoch 3/5\n",
      "17002/17002 [==============================] - 43s - loss: 2.8104 - acc: 0.1651 - val_loss: 2.8334 - val_acc: 0.1100\n",
      "Epoch 4/5\n",
      "17002/17002 [==============================] - 43s - loss: 2.8169 - acc: 0.1665 - val_loss: 3.0983 - val_acc: 0.1100\n",
      "Epoch 5/5\n",
      "17002/17002 [==============================] - 43s - loss: 2.8158 - acc: 0.1673 - val_loss: 2.9354 - val_acc: 0.1100\n",
      "Train on 17002 samples, validate on 1637 samples\n",
      "Epoch 1/5\n",
      "17002/17002 [==============================] - 43s - loss: 2.8015 - acc: 0.1695 - val_loss: 5.7885 - val_acc: 0.1100\n",
      "Epoch 2/5\n",
      "17002/17002 [==============================] - 43s - loss: 2.8097 - acc: 0.1676 - val_loss: 5.7572 - val_acc: 0.1100\n",
      "Epoch 3/5\n",
      "17002/17002 [==============================] - 43s - loss: 2.8094 - acc: 0.1720 - val_loss: 5.1485 - val_acc: 0.1100\n",
      "Epoch 4/5\n",
      "17002/17002 [==============================] - 43s - loss: 2.8000 - acc: 0.1702 - val_loss: 6.0871 - val_acc: 0.1100\n",
      "Epoch 5/5\n",
      "17002/17002 [==============================] - 43s - loss: 2.8070 - acc: 0.1695 - val_loss: 5.7570 - val_acc: 0.1100\n",
      "Train on 17002 samples, validate on 1637 samples\n",
      "Epoch 1/5\n",
      "17002/17002 [==============================] - 43s - loss: 2.7958 - acc: 0.1677 - val_loss: 5.0141 - val_acc: 0.1100\n",
      "Epoch 2/5\n",
      "17002/17002 [==============================] - 43s - loss: 2.8013 - acc: 0.1713 - val_loss: 5.1169 - val_acc: 0.1100\n",
      "Epoch 3/5\n",
      "17002/17002 [==============================] - 43s - loss: 2.8006 - acc: 0.1741 - val_loss: 5.3934 - val_acc: 0.1100\n",
      "Epoch 4/5\n",
      "17002/17002 [==============================] - 43s - loss: 2.8043 - acc: 0.1711 - val_loss: 3.8404 - val_acc: 0.1100\n",
      "Epoch 5/5\n",
      "17002/17002 [==============================] - 43s - loss: 2.8133 - acc: 0.1690 - val_loss: 4.3053 - val_acc: 0.1100\n",
      "Train on 17002 samples, validate on 1637 samples\n",
      "Epoch 1/5\n",
      "17002/17002 [==============================] - 43s - loss: 2.8076 - acc: 0.1712 - val_loss: 5.5965 - val_acc: 0.1100\n",
      "Epoch 2/5\n",
      "17002/17002 [==============================] - 43s - loss: 2.8012 - acc: 0.1717 - val_loss: 6.5552 - val_acc: 0.1100\n",
      "Epoch 3/5\n",
      "17002/17002 [==============================] - 43s - loss: 2.8028 - acc: 0.1717 - val_loss: 6.6113 - val_acc: 0.1100\n",
      "Epoch 4/5\n",
      "17002/17002 [==============================] - 43s - loss: 2.8030 - acc: 0.1717 - val_loss: 6.4577 - val_acc: 0.1100\n",
      "Epoch 5/5\n",
      "17002/17002 [==============================] - 43s - loss: 2.7992 - acc: 0.1673 - val_loss: 5.7821 - val_acc: 0.1100\n",
      "Train on 17002 samples, validate on 1637 samples\n",
      "Epoch 1/5\n",
      "17002/17002 [==============================] - 43s - loss: 2.7948 - acc: 0.1734 - val_loss: 5.4943 - val_acc: 0.1100\n",
      "Epoch 2/5\n",
      "17002/17002 [==============================] - 43s - loss: 2.7950 - acc: 0.1705 - val_loss: 5.6329 - val_acc: 0.1100\n",
      "Epoch 3/5\n",
      "17002/17002 [==============================] - 43s - loss: 2.8048 - acc: 0.1735 - val_loss: 5.7753 - val_acc: 0.1100\n",
      "Epoch 4/5\n",
      "17002/17002 [==============================] - 83s - loss: 2.7987 - acc: 0.1730 - val_loss: 6.2567 - val_acc: 0.1100\n",
      "Epoch 5/5\n",
      "17002/17002 [==============================] - 105s - loss: 2.7935 - acc: 0.1733 - val_loss: 6.3732 - val_acc: 0.1100\n",
      "Train on 17002 samples, validate on 1637 samples\n",
      "Epoch 1/5\n",
      "17002/17002 [==============================] - 105s - loss: 2.7994 - acc: 0.1677 - val_loss: 6.7034 - val_acc: 0.1100\n",
      "Epoch 2/5\n",
      "17002/17002 [==============================] - 104s - loss: 2.8083 - acc: 0.1699 - val_loss: 5.6614 - val_acc: 0.1100\n",
      "Epoch 3/5\n",
      "17002/17002 [==============================] - 104s - loss: 2.8005 - acc: 0.1740 - val_loss: 5.6538 - val_acc: 0.1100\n",
      "Epoch 4/5\n",
      "17002/17002 [==============================] - 104s - loss: 2.7999 - acc: 0.1716 - val_loss: 5.5506 - val_acc: 0.1100\n",
      "Epoch 5/5\n",
      "17002/17002 [==============================] - 104s - loss: 2.7969 - acc: 0.1747 - val_loss: 5.9606 - val_acc: 0.1100\n",
      "Train on 17002 samples, validate on 1637 samples\n",
      "Epoch 1/5\n",
      "17002/17002 [==============================] - 104s - loss: 2.8096 - acc: 0.1729 - val_loss: 5.5471 - val_acc: 0.1100\n",
      "Epoch 2/5\n",
      "17002/17002 [==============================] - 104s - loss: 2.8081 - acc: 0.1723 - val_loss: 5.4271 - val_acc: 0.1100\n",
      "Epoch 3/5\n",
      "17002/17002 [==============================] - 104s - loss: 2.8050 - acc: 0.1725 - val_loss: 5.8646 - val_acc: 0.1100\n",
      "Epoch 4/5\n",
      "17002/17002 [==============================] - 104s - loss: 2.7985 - acc: 0.1698 - val_loss: 6.2795 - val_acc: 0.1100\n",
      "Epoch 5/5\n",
      "17002/17002 [==============================] - 104s - loss: 2.8039 - acc: 0.1682 - val_loss: 5.0413 - val_acc: 0.1100\n",
      "Train on 17002 samples, validate on 1637 samples\n",
      "Epoch 1/5\n",
      "17002/17002 [==============================] - 104s - loss: 2.8031 - acc: 0.1707 - val_loss: 5.5753 - val_acc: 0.1100\n",
      "Epoch 2/5\n",
      "17002/17002 [==============================] - 104s - loss: 2.7964 - acc: 0.1758 - val_loss: 5.7872 - val_acc: 0.1100\n",
      "Epoch 3/5\n",
      "17002/17002 [==============================] - 104s - loss: 2.7961 - acc: 0.1754 - val_loss: 6.0077 - val_acc: 0.1100\n",
      "Epoch 4/5\n",
      "17002/17002 [==============================] - 105s - loss: 2.7926 - acc: 0.1709 - val_loss: 5.7794 - val_acc: 0.1100\n",
      "Epoch 5/5\n",
      "10400/17002 [=================>............] - ETA: 39s - loss: 2.7838 - acc: 0.1732"
     ]
    }
   ],
   "source": [
    "# the actual training is done here\n",
    "keys = range(0,len(book_titles))\n",
    "bins = range(13)\n",
    "    \n",
    "if grid_search:\n",
    "    mu = np.linspace(0.001,1.0,20)\n",
    "    y_train = keras.utils.to_categorical(y_train, 12)\n",
    "    X_train = X_train.reshape(len(X_train), 1, max_len)   \n",
    "    # random labels_dict\n",
    "    hist, bin_edges = np.histogram(ydata, bins, density=False)\n",
    "    \n",
    "    labels_dict = dict((keys[i],hist[i]) for i in range(len(book_titles)))\n",
    "    # grid search for good mu\n",
    "    for i in mu:\n",
    "        model.compile(loss='categorical_crossentropy', optimizer=optimizer, metrics=['accuracy'])\n",
    "        class_weights = create_class_weight(labels_dict,i)\n",
    "        # the actual training is done here\n",
    "        model.fit(X_train, y_train, validation_data=(X_val, y_val), class_weight=class_weights, batch_size=512, epochs=10, verbose=1, shuffle=True, callbacks=[check_cb, earlystop_cb])\n",
    "        score = model.evaluate(X_val, y_val, verbose=0)\n",
    "        print(\"Test loss: %f,  Test accuracy: %f   ,mu  %f\" % (score[0],score[1],i))\n",
    "else:\n",
    "    mu = 0.3\n",
    "    model.compile(loss='categorical_crossentropy', optimizer=optimizer, metrics=['accuracy'])\n",
    "    #class_weights = create_class_weight(labels_dict,mu)\n",
    "    for i in range(15):\n",
    "        # with this split, it's using about half the training samples\n",
    "        indices = sampling_train(y_train,3.0)\n",
    "        \n",
    "        X_sampled = X_train[indices,:]\n",
    "        y_sampled = [y_train[j] for j in indices]\n",
    "        \n",
    "        hist, bin_edges = np.histogram(y_sampled, bins, density=False)\n",
    "        \n",
    "        y_sampled = keras.utils.to_categorical(y_sampled, 12)\n",
    "        X_sampled = X_sampled.reshape(len(X_sampled), 1, max_len)    \n",
    "       \n",
    "        labels_dict = dict((keys[i],hist[i]) for i in range(len(book_titles)))\n",
    "        class_weights = create_class_weight(labels_dict,mu)\n",
    "        \n",
    "        \n",
    "        model.fit(X_sampled, y_sampled, validation_data=(X_val, y_val), class_weight=class_weights, batch_size=32, epochs=5, shuffle=True, callbacks=[check_cb, earlystop_cb])\n",
    "    score = model.evaluate(X_val, y_val, verbose=0)\n",
    "    print(\"Test loss: %f,  Test accuracy: %f   ,mu  %f\" % (score[0],score[1],mu))"
   ]
  },
  {
   "cell_type": "code",
   "execution_count": 34,
   "metadata": {},
   "outputs": [],
   "source": [
    "## testing\n",
    "# use model to predict labels for test sentences\n",
    "X_test = X_test.reshape(len(X_test), 1, max_len) \n",
    "y_pred = model.predict(X_test)\n",
    "# convert softmax probabilities to class labels\n",
    "y_label = np.argmax(y_pred, axis=1)"
   ]
  },
  {
   "cell_type": "code",
   "execution_count": 35,
   "metadata": {},
   "outputs": [
    {
     "data": {
      "image/png": "[encoded data removed]",
      "text/plain": [
       "<matplotlib.figure.Figure at 0x7f62302d1450>"
      ]
     },
     "metadata": {},
     "output_type": "display_data"
    }
   ],
   "source": [
    "# sanity test for labels\n",
    "hist, bin_edges = np.histogram(y_label, bins, density=False)\n",
    "# shows a nice plot of the histogram of labels\n",
    "plt.title(\"Predicted Label Histogram\")\n",
    "plt.xlabel(\"Label\")\n",
    "plt.ylabel(\"Frequency in percentage\")\n",
    "plt.bar(bin_edges[:-1], hist, width=1)\n",
    "plt.xlim(min(bin_edges), max(bin_edges))\n",
    "plt.show()  \n",
    "\n",
    "# we see that the training did not work, the model can not discriminate between the classes"
   ]
  },
  {
   "cell_type": "code",
   "execution_count": null,
   "metadata": {
    "collapsed": true
   },
   "outputs": [],
   "source": [
    "# write test sentences to txt file\n",
    "np.savetxt(\"ytest.txt\", y_label, fmt=\"%i\")"
   ]
  },
  {
   "cell_type": "code",
   "execution_count": null,
   "metadata": {
    "collapsed": true
   },
   "outputs": [],
   "source": []
  }
 ],
 "metadata": {
  "kernelspec": {
   "display_name": "Python 2",
   "language": "python",
   "name": "python2"
  },
  "language_info": {
   "codemirror_mode": {
    "name": "ipython",
    "version": 2
   },
   "file_extension": ".py",
   "mimetype": "text/x-python",
   "name": "python",
   "nbconvert_exporter": "python",
   "pygments_lexer": "ipython2",
   "version": "2.7.12"
  }
 },
 "nbformat": 4,
 "nbformat_minor": 1
}
