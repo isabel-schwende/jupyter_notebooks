{
 "cells": [
  {
   "cell_type": "code",
   "execution_count": 2,
   "metadata": {
    "collapsed": false
   },
   "outputs": [],
   "source": [
    "from skimage.restoration import denoise_nl_means\n",
    "import imageio\n",
    "from skimage.feature import blob_dog, blob_log, blob_doh\n",
    "from math import sqrt\n",
    "import numpy as np\n",
    "import visvis as vv\n",
    "from skimage.feature import blob_dog, blob_log, blob_doh\n",
    "from math import sqrt\n",
    "from skimage.color import rgb2gray\n",
    "from skimage.filters import threshold_otsu, rank, threshold_adaptive, wiener, threshold_isodata\n",
    "from skimage.util import img_as_ubyte\n",
    "\n",
    "import matplotlib.pyplot as plt\n",
    "\n",
    "\n",
    "filename = 'route27north1.mp4'\n",
    "reader = imageio.get_reader(filename)\n",
    "\n"
   ]
  },
  {
   "cell_type": "code",
   "execution_count": 3,
   "metadata": {
    "collapsed": false
   },
   "outputs": [
    {
     "name": "stdout",
     "output_type": "stream",
     "text": [
      "(480L, 640L)\n"
     ]
    },
    {
     "name": "stderr",
     "output_type": "stream",
     "text": [
      "C:\\Users\\Isabel\\Anaconda2\\lib\\site-packages\\skimage\\util\\dtype.py:110: UserWarning: Possible precision loss when converting from float64 to uint8\n",
      "  \"%s to %s\" % (dtypeobj_in, dtypeobj))\n"
     ]
    }
   ],
   "source": [
    "for i, im in enumerate(reader):\n",
    "    #print('Mean of frame %i is %1.1f' % (i, im.mean()))\n",
    "    if i>430:\n",
    "        test_image = img_as_ubyte(rgb2gray(im))\n",
    "        break\n",
    "#vv.imshow(test_image)\n",
    "\n",
    "print(test_image.shape)\n",
    "\n",
    "#test_image2 = denoise_nl_means(test_image,patch_size=11)\n",
    "#print(test_image2.shape)"
   ]
  },
  {
   "cell_type": "code",
   "execution_count": 4,
   "metadata": {
    "collapsed": false
   },
   "outputs": [
    {
     "name": "stdout",
     "output_type": "stream",
     "text": [
      "54\n",
      "53\n",
      "30.4766373698\n"
     ]
    }
   ],
   "source": [
    "thresh=threshold_otsu(test_image)\n",
    "otsu_image = test_image > thresh*3\n",
    "\n",
    "print(thresh)\n",
    "thresh2 = threshold_isodata(test_image,6)\n",
    "print(thresh2)\n",
    "bin_image1 = test_image > thresh2*4\n",
    "\n",
    "#bin_image1 = threshold_adaptive(test_image, 31, 'mean')\n",
    "#func = lambda arr: arr.mean()\n",
    "#bin_image2 = threshold_adaptive(test_image, 31, 'gaussian')\n",
    "print(test_image.mean())\n",
    "\n",
    "fig, axes = plt.subplots(1, 3, figsize=(14, 4), sharex=True, sharey=True,\n",
    "                         subplot_kw={'adjustable': 'box-forced'})\n",
    "plt.tight_layout()\n",
    "bins_list = [otsu_image, bin_image1, test_image]\n",
    "titles = ['Otsu threshold', 'ISODATA threshold',\n",
    "          'Original image']\n",
    "\n",
    "sequence = zip(bins_list, titles)\n",
    "axes = axes.ravel()\n",
    "for bin_img, title in sequence:\n",
    "    ax = axes[0]\n",
    "    axes = axes[1:]\n",
    "    ax.set_title(title)\n",
    "    ax.imshow(bin_img, cmap='Greys_r')\n",
    "    ax.set_axis_off()\n",
    "\n",
    "plt.show()\n",
    "\n",
    "next_image = bin_image1"
   ]
  },
  {
   "cell_type": "code",
   "execution_count": 5,
   "metadata": {
    "collapsed": false
   },
   "outputs": [
    {
     "name": "stdout",
     "output_type": "stream",
     "text": [
      "2.37356311346\n",
      "6.73018923545\n",
      "3.51490514905\n"
     ]
    }
   ],
   "source": [
    "\n",
    "blobs_log = blob_log(next_image, max_sigma=30, num_sigma=10, threshold=.1)\n",
    "\n",
    "# Compute radii in the 3rd column.\n",
    "if blobs_log.shape>0:\n",
    "    blobs_log[:, 2] = blobs_log[:, 2] * sqrt(2)\n",
    "    print(blobs_log[:, 2].mean())\n",
    "    blobs_log = blobs_log[blobs_log[:,2]>2]\n",
    "\n",
    "blobs_dog = blob_dog(next_image, max_sigma=30, threshold=.1)\n",
    "if blobs_dog.shape>0:\n",
    "    blobs_dog[:, 2] = blobs_dog[:, 2] * sqrt(2)\n",
    "    print(blobs_dog[:, 2].mean())\n",
    "    blobs_dog = blobs_dog[blobs_dog[:,2]>2]\n",
    "\n",
    "blobs_doh = blob_doh(next_image, max_sigma=30, threshold=.01)\n",
    "print(blobs_doh[:, 2].mean())\n",
    "blobs_doh = blobs_doh[blobs_doh[:,2]>2]\n",
    "\n",
    "blobs_list = [blobs_log, blobs_dog, blobs_doh]\n",
    "colors = ['yellow', 'lime', 'red']\n",
    "titles = ['Laplacian of Gaussian', 'Difference of Gaussian',\n",
    "          'Determinant of Hessian']\n",
    "sequence = zip(blobs_list, colors, titles)\n",
    "\n",
    "fig, axes = plt.subplots(1, 3, figsize=(14, 4), sharex=True, sharey=True,\n",
    "                         subplot_kw={'adjustable': 'box-forced'})\n",
    "plt.tight_layout()\n",
    "\n",
    "axes = axes.ravel()\n",
    "for blobs, color, title in sequence:\n",
    "    ax = axes[0]\n",
    "    axes = axes[1:]\n",
    "    ax.set_title(title)\n",
    "    ax.imshow(test_image, cmap='Greys_r')\n",
    "    ax.set_axis_off()\n",
    "    for blob in blobs:\n",
    "        y, x, r = blob\n",
    "        c = plt.Circle((x, y), r, color=color, linewidth=2, fill=False)\n",
    "        ax.add_patch(c)\n",
    "\n",
    "plt.show()"
   ]
  },
  {
   "cell_type": "code",
   "execution_count": null,
   "metadata": {
    "collapsed": false
   },
   "outputs": [],
   "source": []
  },
  {
   "cell_type": "code",
   "execution_count": null,
   "metadata": {
    "collapsed": true
   },
   "outputs": [],
   "source": []
  }
 ],
 "metadata": {
  "kernelspec": {
   "display_name": "Python 2",
   "language": "python",
   "name": "python2"
  },
  "language_info": {
   "codemirror_mode": {
    "name": "ipython",
    "version": 2
   },
   "file_extension": ".py",
   "mimetype": "text/x-python",
   "name": "python",
   "nbconvert_exporter": "python",
   "pygments_lexer": "ipython2",
   "version": "2.7.11"
  }
 },
 "nbformat": 4,
 "nbformat_minor": 0
}
