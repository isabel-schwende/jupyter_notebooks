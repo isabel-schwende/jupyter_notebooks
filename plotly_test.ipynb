{
 "cells": [
  {
   "cell_type": "code",
   "execution_count": null,
   "metadata": {
    "collapsed": false
   },
   "outputs": [],
   "source": [
    "# (*) Import plotly package\n",
    "import plotly\n",
    "\n",
    "# Check plotly package version\n",
    "# plotly.__version__ \n",
    "\n",
    "# (*) How you communicate with Plotly's servers\n",
    "import plotly.plotly as py   \n",
    "\n",
    "# (*) Useful tools, e.g., get_sublots(), embed()\n",
    "import plotly.tools as tls\n",
    "\n",
    "\n"
   ]
  },
  {
   "cell_type": "code",
   "execution_count": null,
   "metadata": {
    "collapsed": true
   },
   "outputs": [],
   "source": [
    "# (1) Two lists of numbers\n",
    "x1 = [1, 2, 3, 5, 6]\n",
    "y1 = [1, 4.5, 7, 24, 38]\n",
    "\n",
    "# (2) Make dictionary linking x and y coordinate lists to 'x' and 'y' keys\n",
    "trace1 = dict(x=x1, y=y1)\n",
    "\n",
    "# (3) Make list of 1 trace, to be sent to Plotly\n",
    "data = [trace1]"
   ]
  },
  {
   "cell_type": "code",
   "execution_count": null,
   "metadata": {
    "collapsed": false
   },
   "outputs": [],
   "source": [
    "# (@) Call the plot() function of the plotly.plotly submodule,\n",
    "#     save figure as 's0_first_plot'\n",
    "py.plot(data, filename='s0_first_plot')"
   ]
  },
  {
   "cell_type": "code",
   "execution_count": null,
   "metadata": {
    "collapsed": true
   },
   "outputs": [],
   "source": []
  }
 ],
 "metadata": {
  "kernelspec": {
   "display_name": "Python 2",
   "language": "python",
   "name": "python2"
  },
  "language_info": {
   "codemirror_mode": {
    "name": "ipython",
    "version": 2
   },
   "file_extension": ".py",
   "mimetype": "text/x-python",
   "name": "python",
   "nbconvert_exporter": "python",
   "pygments_lexer": "ipython2",
   "version": "2.7.11"
  }
 },
 "nbformat": 4,
 "nbformat_minor": 0
}
